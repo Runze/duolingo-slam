{
 "cells": [
  {
   "cell_type": "code",
   "execution_count": 1,
   "metadata": {
    "collapsed": false
   },
   "outputs": [],
   "source": [
    "import numpy as np\n",
    "import pandas as pd\n",
    "import re\n",
    "import glob\n",
    "from copy import deepcopy\n",
    "from pandas.io.json import json_normalize\n",
    "from baseline import *\n",
    "import seaborn as sns\n",
    "import matplotlib.pyplot as plt\n",
    "\n",
    "sns.set_style('whitegrid')\n",
    "pd.options.display.max_colwidth = 200\n",
    "pd.options.display.max_rows = 300"
   ]
  },
  {
   "cell_type": "code",
   "execution_count": 2,
   "metadata": {
    "collapsed": false
   },
   "outputs": [],
   "source": [
    "%matplotlib inline\n",
    "%reload_ext autoreload\n",
    "%autoreload 2\n",
    "%config InlineBackend.figure_format = 'retina'"
   ]
  },
  {
   "cell_type": "markdown",
   "metadata": {},
   "source": [
    "## Load data as dataframes"
   ]
  },
  {
   "cell_type": "code",
   "execution_count": 4,
   "metadata": {
    "collapsed": true
   },
   "outputs": [],
   "source": [
    "def load_data(filename, return_df=True):\n",
    "    \"\"\"\n",
    "    This is a modified version of the `load_data` function provided by Duolingo.\n",
    "    The main difference is that this one returns the data in a dataframe.\n",
    "    \"\"\"\n",
    "    \n",
    "    print('Loading {}...'.format(filename))    \n",
    "    data = []\n",
    "    \n",
    "    if 'key' in filename:\n",
    "        print('Loading labels...')\n",
    "        with open(filename, 'rt', encoding='utf-8') as f:\n",
    "            for line in f:\n",
    "                line = line.strip()\n",
    "                instance_properties = {}\n",
    "                instance_properties['instance_id'], instance_properties['label'] = line.split()\n",
    "                instance_properties['label'] = float(instance_properties['label'])\n",
    "                data.append(instance_properties)\n",
    "    else:\n",
    "        # If this is training data, then 'labels' is a dict that contains instance_ids as keys and labels as values.\n",
    "        training = False\n",
    "        if filename.find('train') != -1:\n",
    "            training = True\n",
    "\n",
    "        if training:\n",
    "            labels = dict()\n",
    "\n",
    "        num_exercises = 0\n",
    "        print('Loading instances...')\n",
    "\n",
    "        with open(filename, 'rt', encoding='utf-8') as f:\n",
    "            for line in f:\n",
    "                line = line.strip()\n",
    "\n",
    "                # If there's nothing in the line, then we're done with the exercise. Print if needed, otherwise continue\n",
    "                if len(line) == 0:\n",
    "                    num_exercises += 1\n",
    "                    if num_exercises % 100000 == 0:\n",
    "                        print('Loaded ' + str(len(data)) + ' instances across ' + str(num_exercises) + ' exercises...')\n",
    "\n",
    "                # If the line starts with #, then we're beginning a new exercise\n",
    "                elif line[0] == '#':\n",
    "                    list_of_exercise_parameters = line[2:].split()\n",
    "                    instance_properties = dict()\n",
    "                    for exercise_parameter in list_of_exercise_parameters:\n",
    "                        [key, value] = exercise_parameter.split(':')\n",
    "                        if key == 'countries':\n",
    "                            value = value.split('|')\n",
    "                        elif key == 'days':\n",
    "                            value = float(value)\n",
    "                        elif key == 'time':\n",
    "                            if value == 'null':\n",
    "                                value = None\n",
    "                            else:\n",
    "                                assert '.' not in value\n",
    "                                value = int(value)\n",
    "                        instance_properties[key] = value\n",
    "\n",
    "                # Otherwise we're parsing a new Instance for the current exercise\n",
    "                else:\n",
    "                    line = line.split()\n",
    "                    if training:\n",
    "                        assert len(line) == 7\n",
    "                    else:\n",
    "                        assert len(line) == 6\n",
    "                    assert len(line[0]) == 12\n",
    "                    \n",
    "                    instance_properties['instance_id'] = line[0]\n",
    "                    instance_properties['token'] = line[1]\n",
    "                    instance_properties['part_of_speech'] = line[2]\n",
    "                    \n",
    "                    instance_properties['morphological_features'] = dict()\n",
    "                    for l in line[3].split('|'):\n",
    "                        [key, value] = l.split('=')\n",
    "#                         if key == 'Person':\n",
    "#                             value = int(value)\n",
    "                        instance_properties['morphological_features'][key.lower()] = value\n",
    "\n",
    "                    instance_properties['dependency_label'] = line[4]\n",
    "                    instance_properties['dependency_edge_head'] = int(line[5])\n",
    "                    if training:\n",
    "                        instance_properties['label'] = float(line[6])\n",
    "                    \n",
    "                    # Add track\n",
    "                    instance_properties['track'] = re.findall('[a-z]{2}_[a-z]{2}', filename)[0]\n",
    "                    data.append(deepcopy(instance_properties))\n",
    "                    \n",
    "            print('Done loading ' + str(len(data)) + ' instances across ' + str(num_exercises) +\n",
    "                  ' exercises.\\n')\n",
    "        \n",
    "    if return_df:\n",
    "        data = json_normalize(data, sep='_')\n",
    "        assert data['instance_id'].is_unique\n",
    "        return data\n",
    "    else:\n",
    "        return data"
   ]
  },
  {
   "cell_type": "code",
   "execution_count": 5,
   "metadata": {
    "collapsed": false,
    "scrolled": true
   },
   "outputs": [
    {
     "name": "stdout",
     "output_type": "stream",
     "text": [
      "Loading data/fr_en.slam.20171218.train...\n",
      "Loading instances...\n",
      "Loaded 285973 instances across 100000 exercises...\n",
      "Loaded 567856 instances across 200000 exercises...\n",
      "Loaded 850511 instances across 300000 exercises...\n",
      "Done loading 926657 instances across 326792 exercises.\n",
      "\n",
      "Loading data/en_es.slam.20171218.test.key...\n",
      "Loading labels...\n",
      "Loading data/en_es.slam.20171218.train...\n",
      "Loading instances...\n",
      "Loaded 317049 instances across 100000 exercises...\n",
      "Loaded 635368 instances across 200000 exercises...\n",
      "Loaded 951536 instances across 300000 exercises...\n",
      "Loaded 1271940 instances across 400000 exercises...\n",
      "Loaded 1591345 instances across 500000 exercises...\n",
      "Loaded 1911213 instances across 600000 exercises...\n",
      "Loaded 2227445 instances across 700000 exercises...\n",
      "Loaded 2546705 instances across 800000 exercises...\n",
      "Done loading 2622958 instances across 824012 exercises.\n",
      "\n",
      "Loading data/fr_en.slam.20171218.dev.key...\n",
      "Loading labels...\n",
      "Loading data/fr_en.slam.20171218.dev...\n",
      "Loading instances...\n",
      "Done loading 137571 instances across 43610 exercises.\n",
      "\n",
      "Loading data/en_es.slam.20171218.dev...\n",
      "Loading instances...\n",
      "Loaded 334439 instances across 100000 exercises...\n",
      "Done loading 387374 instances across 115770 exercises.\n",
      "\n",
      "Loading data/fr_en.slam.20171218.test.key...\n",
      "Loading labels...\n",
      "Loading data/es_en.slam.20171218.test.key...\n",
      "Loading labels...\n",
      "Loading data/en_es.slam.20171218.dev.key...\n",
      "Loading labels...\n",
      "Loading data/es_en.slam.20171218.train...\n",
      "Loading instances...\n",
      "Loaded 266882 instances across 100000 exercises...\n",
      "Loaded 537453 instances across 200000 exercises...\n",
      "Loaded 804717 instances across 300000 exercises...\n",
      "Loaded 1075885 instances across 400000 exercises...\n",
      "Loaded 1348071 instances across 500000 exercises...\n",
      "Loaded 1620766 instances across 600000 exercises...\n",
      "Loaded 1887020 instances across 700000 exercises...\n",
      "Done loading 1973558 instances across 731896 exercises.\n",
      "\n",
      "Loading data/es_en.slam.20171218.dev.key...\n",
      "Loading labels...\n",
      "Loading data/fr_en.slam.20171218.test...\n",
      "Loading instances...\n",
      "Done loading 135525 instances across 41753 exercises.\n",
      "\n",
      "Loading data/es_en.slam.20171218.dev...\n",
      "Loading instances...\n",
      "Done loading 288864 instances across 96003 exercises.\n",
      "\n",
      "Loading data/en_es.slam.20171218.test...\n",
      "Loading instances...\n",
      "Loaded 337728 instances across 100000 exercises...\n",
      "Done loading 386604 instances across 114586 exercises.\n",
      "\n",
      "Loading data/es_en.slam.20171218.test...\n",
      "Loading instances...\n",
      "Done loading 282181 instances across 93145 exercises.\n",
      "\n"
     ]
    }
   ],
   "source": [
    "# Load all data\n",
    "filenames = glob.glob('data/*.slam*')\n",
    "data = {fn: load_data(fn) for fn in filenames}"
   ]
  },
  {
   "cell_type": "code",
   "execution_count": 6,
   "metadata": {
    "collapsed": true
   },
   "outputs": [],
   "source": [
    "# Merge labels with features for dev and test data\n",
    "for fn in data:\n",
    "    if re.search(r'[dev|test]$', fn):\n",
    "        data[fn] = pd.merge(data[fn], data[fn + '.key'], on='instance_id')\n",
    "        assert data[fn]['instance_id'].is_unique"
   ]
  },
  {
   "cell_type": "code",
   "execution_count": 7,
   "metadata": {
    "collapsed": false
   },
   "outputs": [
    {
     "data": {
      "text/plain": [
       "((5523173, 32), (813809, 32), (804310, 32))"
      ]
     },
     "execution_count": 7,
     "metadata": {},
     "output_type": "execute_result"
    }
   ],
   "source": [
    "# Combine all 3 tracks togethe\n",
    "trn = pd.concat([data[fn] for fn in data if fn.endswith('train')], ignore_index=True, sort=True)\n",
    "dev = pd.concat([data[fn] for fn in data if fn.endswith('dev')], ignore_index=True, sort=True)\n",
    "test = pd.concat([data[fn] for fn in data if fn.endswith('test')], ignore_index=True, sort=True)\n",
    "\n",
    "trn.shape, dev.shape, test.shape"
   ]
  },
  {
   "cell_type": "code",
   "execution_count": 9,
   "metadata": {
    "collapsed": false
   },
   "outputs": [
    {
     "data": {
      "text/plain": [
       "en_es    0.474901\n",
       "es_en    0.357323\n",
       "fr_en    0.167776\n",
       "Name: track, dtype: float64"
      ]
     },
     "execution_count": 9,
     "metadata": {},
     "output_type": "execute_result"
    }
   ],
   "source": [
    "# Check the distribution of tracks\n",
    "trn['track'].value_counts(normalize=True)"
   ]
  },
  {
   "cell_type": "code",
   "execution_count": 10,
   "metadata": {
    "collapsed": false
   },
   "outputs": [
    {
     "data": {
      "text/plain": [
       "(0.13735492261422919, 0.1535642884263998, 0.15884671333192427)"
      ]
     },
     "execution_count": 10,
     "metadata": {},
     "output_type": "execute_result"
    }
   ],
   "source": [
    "# Check the % of positive labels\n",
    "trn['label'].mean(), dev['label'].mean(), test['label'].mean()"
   ]
  },
  {
   "cell_type": "code",
   "execution_count": 11,
   "metadata": {
    "collapsed": false
   },
   "outputs": [
    {
     "data": {
      "text/plain": [
       "track\n",
       "en_es    0.126113\n",
       "es_en    0.140597\n",
       "fr_en    0.162273\n",
       "Name: label, dtype: float64"
      ]
     },
     "execution_count": 11,
     "metadata": {},
     "output_type": "execute_result"
    }
   ],
   "source": [
    "# Check the % of positive labels per tracks\n",
    "trn.groupby('track')['label'].mean()"
   ]
  },
  {
   "cell_type": "markdown",
   "metadata": {
    "collapsed": true
   },
   "source": [
    "## Clean data"
   ]
  },
  {
   "cell_type": "code",
   "execution_count": 12,
   "metadata": {
    "collapsed": false
   },
   "outputs": [
    {
     "data": {
      "text/plain": [
       "client                             0.000000\n",
       "countries                          0.000000\n",
       "days                               0.000000\n",
       "dependency_edge_head               0.000000\n",
       "dependency_label                   0.000000\n",
       "format                             0.000000\n",
       "instance_id                        0.000000\n",
       "label                              0.000000\n",
       "morphological_features_case        0.907641\n",
       "morphological_features_definite    0.869148\n",
       "morphological_features_degree      0.960974\n",
       "morphological_features_foreign     0.999908\n",
       "morphological_features_fpos        0.000000\n",
       "morphological_features_gender      0.713314\n",
       "morphological_features_mood        0.824631\n",
       "morphological_features_number      0.341225\n",
       "morphological_features_numtype     0.993484\n",
       "morphological_features_person      0.725570\n",
       "morphological_features_polite      0.999998\n",
       "morphological_features_poss        0.967216\n",
       "morphological_features_prepcase    0.997607\n",
       "morphological_features_prontype    0.719426\n",
       "morphological_features_reflex      0.999710\n",
       "morphological_features_tense       0.822202\n",
       "morphological_features_verbform    0.808373\n",
       "morphological_features_voice       0.999604\n",
       "part_of_speech                     0.000000\n",
       "session                            0.000000\n",
       "time                               0.039105\n",
       "token                              0.000000\n",
       "track                              0.000000\n",
       "user                               0.000000\n",
       "dtype: float64"
      ]
     },
     "execution_count": 12,
     "metadata": {},
     "output_type": "execute_result"
    }
   ],
   "source": [
    "# Check missing values\n",
    "trn.isnull().mean()"
   ]
  },
  {
   "cell_type": "code",
   "execution_count": 16,
   "metadata": {
    "collapsed": false
   },
   "outputs": [
    {
     "data": {
      "text/plain": [
       "11.0"
      ]
     },
     "execution_count": 16,
     "metadata": {},
     "output_type": "execute_result"
    }
   ],
   "source": [
    "# Compute the medium of `time` using the training data\n",
    "time_p50 = trn['time'].quantile(.5)\n",
    "time_p50"
   ]
  },
  {
   "cell_type": "code",
   "execution_count": 17,
   "metadata": {
    "collapsed": false
   },
   "outputs": [
    {
     "data": {
      "text/plain": [
       "1    0.955765\n",
       "2    0.037551\n",
       "3    0.004819\n",
       "6    0.000844\n",
       "4    0.000542\n",
       "5    0.000480\n",
       "dtype: float64"
      ]
     },
     "execution_count": 17,
     "metadata": {},
     "output_type": "execute_result"
    }
   ],
   "source": [
    "# Check the number of countries a user can have\n",
    "pd.Series([len(countries) for countries in trn['countries']]).value_counts(normalize=True)"
   ]
  },
  {
   "cell_type": "code",
   "execution_count": 19,
   "metadata": {
    "collapsed": true
   },
   "outputs": [],
   "source": [
    "def clean_data(df, time_p50):\n",
    "    # Fill missing values\n",
    "    for col in df:\n",
    "        if col.startswith('morphological_features'):\n",
    "            df[col].fillna('', inplace=True)\n",
    "    \n",
    "    df['time'].fillna(time_p50, inplace=True)\n",
    "    \n",
    "    # Keep `time` above 0 (those that are less than 0 are due to race conditions)\n",
    "    df['time'].clip(lower=0, inplace=True)\n",
    "    \n",
    "    # Only keep the first country for a given user\n",
    "    df['countries'] = [countries[0] for countries in df['countries']]\n",
    "    \n",
    "    # Add learning languages\n",
    "    df['l2'] = df['track'].str.replace('_.+$', '')\n",
    "    df['token_w_l2'] = (df['l2'] + ':' + df['token']).str.lower().str.strip()\n",
    "    \n",
    "    return df"
   ]
  },
  {
   "cell_type": "code",
   "execution_count": 20,
   "metadata": {
    "collapsed": true
   },
   "outputs": [],
   "source": [
    "trn = clean_data(trn, time_p50)\n",
    "dev = clean_data(dev, time_p50)\n",
    "test = clean_data(test, time_p50)"
   ]
  },
  {
   "cell_type": "code",
   "execution_count": 21,
   "metadata": {
    "collapsed": false
   },
   "outputs": [
    {
     "data": {
      "text/html": [
       "<div>\n",
       "<style scoped>\n",
       "    .dataframe tbody tr th:only-of-type {\n",
       "        vertical-align: middle;\n",
       "    }\n",
       "\n",
       "    .dataframe tbody tr th {\n",
       "        vertical-align: top;\n",
       "    }\n",
       "\n",
       "    .dataframe thead th {\n",
       "        text-align: right;\n",
       "    }\n",
       "</style>\n",
       "<table border=\"1\" class=\"dataframe\">\n",
       "  <thead>\n",
       "    <tr style=\"text-align: right;\">\n",
       "      <th></th>\n",
       "      <th>0</th>\n",
       "      <th>1</th>\n",
       "      <th>2</th>\n",
       "      <th>3</th>\n",
       "      <th>4</th>\n",
       "    </tr>\n",
       "  </thead>\n",
       "  <tbody>\n",
       "    <tr>\n",
       "      <th>client</th>\n",
       "      <td>web</td>\n",
       "      <td>web</td>\n",
       "      <td>web</td>\n",
       "      <td>web</td>\n",
       "      <td>web</td>\n",
       "    </tr>\n",
       "    <tr>\n",
       "      <th>countries</th>\n",
       "      <td>CA</td>\n",
       "      <td>CA</td>\n",
       "      <td>CA</td>\n",
       "      <td>CA</td>\n",
       "      <td>CA</td>\n",
       "    </tr>\n",
       "    <tr>\n",
       "      <th>days</th>\n",
       "      <td>0.005</td>\n",
       "      <td>0.005</td>\n",
       "      <td>0.005</td>\n",
       "      <td>0.005</td>\n",
       "      <td>0.005</td>\n",
       "    </tr>\n",
       "    <tr>\n",
       "      <th>dependency_edge_head</th>\n",
       "      <td>2</td>\n",
       "      <td>0</td>\n",
       "      <td>4</td>\n",
       "      <td>4</td>\n",
       "      <td>4</td>\n",
       "    </tr>\n",
       "    <tr>\n",
       "      <th>dependency_label</th>\n",
       "      <td>det</td>\n",
       "      <td>ROOT</td>\n",
       "      <td>nsubj</td>\n",
       "      <td>cop</td>\n",
       "      <td>det</td>\n",
       "    </tr>\n",
       "    <tr>\n",
       "      <th>format</th>\n",
       "      <td>reverse_translate</td>\n",
       "      <td>reverse_translate</td>\n",
       "      <td>reverse_translate</td>\n",
       "      <td>reverse_translate</td>\n",
       "      <td>reverse_translate</td>\n",
       "    </tr>\n",
       "    <tr>\n",
       "      <th>instance_id</th>\n",
       "      <td>8XTyQUAl0101</td>\n",
       "      <td>8XTyQUAl0102</td>\n",
       "      <td>8XTyQUAl0201</td>\n",
       "      <td>8XTyQUAl0202</td>\n",
       "      <td>8XTyQUAl0203</td>\n",
       "    </tr>\n",
       "    <tr>\n",
       "      <th>label</th>\n",
       "      <td>0</td>\n",
       "      <td>0</td>\n",
       "      <td>0</td>\n",
       "      <td>0</td>\n",
       "      <td>0</td>\n",
       "    </tr>\n",
       "    <tr>\n",
       "      <th>morphological_features_case</th>\n",
       "      <td></td>\n",
       "      <td></td>\n",
       "      <td></td>\n",
       "      <td></td>\n",
       "      <td></td>\n",
       "    </tr>\n",
       "    <tr>\n",
       "      <th>morphological_features_definite</th>\n",
       "      <td>Def</td>\n",
       "      <td></td>\n",
       "      <td></td>\n",
       "      <td></td>\n",
       "      <td>Ind</td>\n",
       "    </tr>\n",
       "    <tr>\n",
       "      <th>morphological_features_degree</th>\n",
       "      <td></td>\n",
       "      <td></td>\n",
       "      <td></td>\n",
       "      <td></td>\n",
       "      <td></td>\n",
       "    </tr>\n",
       "    <tr>\n",
       "      <th>morphological_features_foreign</th>\n",
       "      <td></td>\n",
       "      <td></td>\n",
       "      <td></td>\n",
       "      <td></td>\n",
       "      <td></td>\n",
       "    </tr>\n",
       "    <tr>\n",
       "      <th>morphological_features_fpos</th>\n",
       "      <td>DET++</td>\n",
       "      <td>NOUN++</td>\n",
       "      <td>PRON++</td>\n",
       "      <td>VERB++</td>\n",
       "      <td>DET++</td>\n",
       "    </tr>\n",
       "    <tr>\n",
       "      <th>morphological_features_gender</th>\n",
       "      <td>Masc</td>\n",
       "      <td>Masc</td>\n",
       "      <td></td>\n",
       "      <td></td>\n",
       "      <td>Fem</td>\n",
       "    </tr>\n",
       "    <tr>\n",
       "      <th>morphological_features_mood</th>\n",
       "      <td></td>\n",
       "      <td></td>\n",
       "      <td></td>\n",
       "      <td>Ind</td>\n",
       "      <td></td>\n",
       "    </tr>\n",
       "    <tr>\n",
       "      <th>morphological_features_number</th>\n",
       "      <td>Sing</td>\n",
       "      <td>Sing</td>\n",
       "      <td>Sing</td>\n",
       "      <td>Sing</td>\n",
       "      <td>Sing</td>\n",
       "    </tr>\n",
       "    <tr>\n",
       "      <th>morphological_features_numtype</th>\n",
       "      <td></td>\n",
       "      <td></td>\n",
       "      <td></td>\n",
       "      <td></td>\n",
       "      <td></td>\n",
       "    </tr>\n",
       "    <tr>\n",
       "      <th>morphological_features_person</th>\n",
       "      <td></td>\n",
       "      <td></td>\n",
       "      <td>1</td>\n",
       "      <td>1</td>\n",
       "      <td></td>\n",
       "    </tr>\n",
       "    <tr>\n",
       "      <th>morphological_features_polite</th>\n",
       "      <td></td>\n",
       "      <td></td>\n",
       "      <td></td>\n",
       "      <td></td>\n",
       "      <td></td>\n",
       "    </tr>\n",
       "    <tr>\n",
       "      <th>morphological_features_poss</th>\n",
       "      <td></td>\n",
       "      <td></td>\n",
       "      <td></td>\n",
       "      <td></td>\n",
       "      <td></td>\n",
       "    </tr>\n",
       "    <tr>\n",
       "      <th>morphological_features_prepcase</th>\n",
       "      <td></td>\n",
       "      <td></td>\n",
       "      <td></td>\n",
       "      <td></td>\n",
       "      <td></td>\n",
       "    </tr>\n",
       "    <tr>\n",
       "      <th>morphological_features_prontype</th>\n",
       "      <td></td>\n",
       "      <td></td>\n",
       "      <td>Prs</td>\n",
       "      <td></td>\n",
       "      <td>Dem</td>\n",
       "    </tr>\n",
       "    <tr>\n",
       "      <th>morphological_features_reflex</th>\n",
       "      <td></td>\n",
       "      <td></td>\n",
       "      <td></td>\n",
       "      <td></td>\n",
       "      <td></td>\n",
       "    </tr>\n",
       "    <tr>\n",
       "      <th>morphological_features_tense</th>\n",
       "      <td></td>\n",
       "      <td></td>\n",
       "      <td></td>\n",
       "      <td>Pres</td>\n",
       "      <td></td>\n",
       "    </tr>\n",
       "    <tr>\n",
       "      <th>morphological_features_verbform</th>\n",
       "      <td></td>\n",
       "      <td></td>\n",
       "      <td></td>\n",
       "      <td>Fin</td>\n",
       "      <td></td>\n",
       "    </tr>\n",
       "    <tr>\n",
       "      <th>morphological_features_voice</th>\n",
       "      <td></td>\n",
       "      <td></td>\n",
       "      <td></td>\n",
       "      <td></td>\n",
       "      <td></td>\n",
       "    </tr>\n",
       "    <tr>\n",
       "      <th>part_of_speech</th>\n",
       "      <td>DET</td>\n",
       "      <td>NOUN</td>\n",
       "      <td>PRON</td>\n",
       "      <td>VERB</td>\n",
       "      <td>DET</td>\n",
       "    </tr>\n",
       "    <tr>\n",
       "      <th>session</th>\n",
       "      <td>lesson</td>\n",
       "      <td>lesson</td>\n",
       "      <td>lesson</td>\n",
       "      <td>lesson</td>\n",
       "      <td>lesson</td>\n",
       "    </tr>\n",
       "    <tr>\n",
       "      <th>time</th>\n",
       "      <td>14</td>\n",
       "      <td>14</td>\n",
       "      <td>14</td>\n",
       "      <td>14</td>\n",
       "      <td>14</td>\n",
       "    </tr>\n",
       "    <tr>\n",
       "      <th>token</th>\n",
       "      <td>Le</td>\n",
       "      <td>garçon</td>\n",
       "      <td>Je</td>\n",
       "      <td>suis</td>\n",
       "      <td>une</td>\n",
       "    </tr>\n",
       "    <tr>\n",
       "      <th>track</th>\n",
       "      <td>fr_en</td>\n",
       "      <td>fr_en</td>\n",
       "      <td>fr_en</td>\n",
       "      <td>fr_en</td>\n",
       "      <td>fr_en</td>\n",
       "    </tr>\n",
       "    <tr>\n",
       "      <th>user</th>\n",
       "      <td>YjS/mQOx</td>\n",
       "      <td>YjS/mQOx</td>\n",
       "      <td>YjS/mQOx</td>\n",
       "      <td>YjS/mQOx</td>\n",
       "      <td>YjS/mQOx</td>\n",
       "    </tr>\n",
       "    <tr>\n",
       "      <th>l2</th>\n",
       "      <td>fr</td>\n",
       "      <td>fr</td>\n",
       "      <td>fr</td>\n",
       "      <td>fr</td>\n",
       "      <td>fr</td>\n",
       "    </tr>\n",
       "    <tr>\n",
       "      <th>token_w_l2</th>\n",
       "      <td>fr:le</td>\n",
       "      <td>fr:garçon</td>\n",
       "      <td>fr:je</td>\n",
       "      <td>fr:suis</td>\n",
       "      <td>fr:une</td>\n",
       "    </tr>\n",
       "  </tbody>\n",
       "</table>\n",
       "</div>"
      ],
      "text/plain": [
       "                                                 0                  1  \\\n",
       "client                                         web                web   \n",
       "countries                                       CA                 CA   \n",
       "days                                         0.005              0.005   \n",
       "dependency_edge_head                             2                  0   \n",
       "dependency_label                               det               ROOT   \n",
       "format                           reverse_translate  reverse_translate   \n",
       "instance_id                           8XTyQUAl0101       8XTyQUAl0102   \n",
       "label                                            0                  0   \n",
       "morphological_features_case                                             \n",
       "morphological_features_definite                Def                      \n",
       "morphological_features_degree                                           \n",
       "morphological_features_foreign                                          \n",
       "morphological_features_fpos                  DET++             NOUN++   \n",
       "morphological_features_gender                 Masc               Masc   \n",
       "morphological_features_mood                                             \n",
       "morphological_features_number                 Sing               Sing   \n",
       "morphological_features_numtype                                          \n",
       "morphological_features_person                                           \n",
       "morphological_features_polite                                           \n",
       "morphological_features_poss                                             \n",
       "morphological_features_prepcase                                         \n",
       "morphological_features_prontype                                         \n",
       "morphological_features_reflex                                           \n",
       "morphological_features_tense                                            \n",
       "morphological_features_verbform                                         \n",
       "morphological_features_voice                                            \n",
       "part_of_speech                                 DET               NOUN   \n",
       "session                                     lesson             lesson   \n",
       "time                                            14                 14   \n",
       "token                                           Le             garçon   \n",
       "track                                        fr_en              fr_en   \n",
       "user                                      YjS/mQOx           YjS/mQOx   \n",
       "l2                                              fr                 fr   \n",
       "token_w_l2                                   fr:le          fr:garçon   \n",
       "\n",
       "                                                 2                  3  \\\n",
       "client                                         web                web   \n",
       "countries                                       CA                 CA   \n",
       "days                                         0.005              0.005   \n",
       "dependency_edge_head                             4                  4   \n",
       "dependency_label                             nsubj                cop   \n",
       "format                           reverse_translate  reverse_translate   \n",
       "instance_id                           8XTyQUAl0201       8XTyQUAl0202   \n",
       "label                                            0                  0   \n",
       "morphological_features_case                                             \n",
       "morphological_features_definite                                         \n",
       "morphological_features_degree                                           \n",
       "morphological_features_foreign                                          \n",
       "morphological_features_fpos                 PRON++             VERB++   \n",
       "morphological_features_gender                                           \n",
       "morphological_features_mood                                       Ind   \n",
       "morphological_features_number                 Sing               Sing   \n",
       "morphological_features_numtype                                          \n",
       "morphological_features_person                    1                  1   \n",
       "morphological_features_polite                                           \n",
       "morphological_features_poss                                             \n",
       "morphological_features_prepcase                                         \n",
       "morphological_features_prontype                Prs                      \n",
       "morphological_features_reflex                                           \n",
       "morphological_features_tense                                     Pres   \n",
       "morphological_features_verbform                                   Fin   \n",
       "morphological_features_voice                                            \n",
       "part_of_speech                                PRON               VERB   \n",
       "session                                     lesson             lesson   \n",
       "time                                            14                 14   \n",
       "token                                           Je               suis   \n",
       "track                                        fr_en              fr_en   \n",
       "user                                      YjS/mQOx           YjS/mQOx   \n",
       "l2                                              fr                 fr   \n",
       "token_w_l2                                   fr:je            fr:suis   \n",
       "\n",
       "                                                 4  \n",
       "client                                         web  \n",
       "countries                                       CA  \n",
       "days                                         0.005  \n",
       "dependency_edge_head                             4  \n",
       "dependency_label                               det  \n",
       "format                           reverse_translate  \n",
       "instance_id                           8XTyQUAl0203  \n",
       "label                                            0  \n",
       "morphological_features_case                         \n",
       "morphological_features_definite                Ind  \n",
       "morphological_features_degree                       \n",
       "morphological_features_foreign                      \n",
       "morphological_features_fpos                  DET++  \n",
       "morphological_features_gender                  Fem  \n",
       "morphological_features_mood                         \n",
       "morphological_features_number                 Sing  \n",
       "morphological_features_numtype                      \n",
       "morphological_features_person                       \n",
       "morphological_features_polite                       \n",
       "morphological_features_poss                         \n",
       "morphological_features_prepcase                     \n",
       "morphological_features_prontype                Dem  \n",
       "morphological_features_reflex                       \n",
       "morphological_features_tense                        \n",
       "morphological_features_verbform                     \n",
       "morphological_features_voice                        \n",
       "part_of_speech                                 DET  \n",
       "session                                     lesson  \n",
       "time                                            14  \n",
       "token                                          une  \n",
       "track                                        fr_en  \n",
       "user                                      YjS/mQOx  \n",
       "l2                                              fr  \n",
       "token_w_l2                                  fr:une  "
      ]
     },
     "execution_count": 21,
     "metadata": {},
     "output_type": "execute_result"
    }
   ],
   "source": [
    "# Check out a few rows\n",
    "trn.head().transpose()"
   ]
  },
  {
   "cell_type": "code",
   "execution_count": 24,
   "metadata": {
    "collapsed": false
   },
   "outputs": [
    {
     "data": {
      "text/plain": [
       "(6447, 6437, 6439)"
      ]
     },
     "execution_count": 24,
     "metadata": {},
     "output_type": "execute_result"
    }
   ],
   "source": [
    "# Check the sharing of users across the 3 datasets\n",
    "users_trn = trn['user'].unique()\n",
    "users_dev = dev['user'].unique()\n",
    "users_test = test['user'].unique()\n",
    "\n",
    "len(users_trn), len(users_dev), len(users_test)"
   ]
  },
  {
   "cell_type": "code",
   "execution_count": 25,
   "metadata": {
    "collapsed": false
   },
   "outputs": [
    {
     "name": "stdout",
     "output_type": "stream",
     "text": [
      "100.0% of users in the dev set are in the training set.\n",
      "100.0% of users in the test set are in the training set.\n"
     ]
    }
   ],
   "source": [
    "print('{}% of users in the dev set are in the training set.'.format(len(np.intersect1d(users_trn, users_dev)) / len(users_dev) * 100))\n",
    "print('{}% of users in the test set are in the training set.'.format(len(np.intersect1d(users_trn, users_test)) / len(users_test) * 100))"
   ]
  },
  {
   "cell_type": "code",
   "execution_count": 36,
   "metadata": {
    "collapsed": false,
    "scrolled": true
   },
   "outputs": [],
   "source": [
    "# Save\n",
    "trn.to_pickle('data/trn.pkl')\n",
    "dev.to_pickle('data/dev.pkl')\n",
    "test.to_pickle('data/test.pkl')"
   ]
  },
  {
   "cell_type": "code",
   "execution_count": null,
   "metadata": {
    "collapsed": true
   },
   "outputs": [],
   "source": []
  }
 ],
 "metadata": {
  "kernelspec": {
   "display_name": "Python 3 (General DS)",
   "language": "python",
   "name": "python3"
  },
  "language_info": {
   "codemirror_mode": {
    "name": "ipython",
    "version": 3
   },
   "file_extension": ".py",
   "mimetype": "text/x-python",
   "name": "python",
   "nbconvert_exporter": "python",
   "pygments_lexer": "ipython3",
   "version": "3.6.4"
  }
 },
 "nbformat": 4,
 "nbformat_minor": 2
}

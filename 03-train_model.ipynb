{
 "cells": [
  {
   "cell_type": "code",
   "execution_count": 1,
   "metadata": {
    "collapsed": true
   },
   "outputs": [],
   "source": [
    "import numpy as np\n",
    "import pandas as pd\n",
    "import re\n",
    "import dill as pickle\n",
    "import seaborn as sns\n",
    "import matplotlib.pyplot as plt\n",
    "from eval import *\n",
    "\n",
    "sns.set_style('whitegrid')\n",
    "pd.options.display.max_colwidth = 200\n",
    "pd.options.display.max_rows = 300"
   ]
  },
  {
   "cell_type": "code",
   "execution_count": 2,
   "metadata": {
    "collapsed": false
   },
   "outputs": [
    {
     "name": "stderr",
     "output_type": "stream",
     "text": [
      "Using TensorFlow backend.\n"
     ]
    }
   ],
   "source": [
    "from keras import Input, layers\n",
    "from keras.activations import sigmoid\n",
    "from keras.models import Model, load_model\n",
    "from keras.optimizers import Adam\n",
    "from keras.callbacks import ReduceLROnPlateau, EarlyStopping, ModelCheckpoint, Callback\n",
    "from keras import backend as K"
   ]
  },
  {
   "cell_type": "code",
   "execution_count": 3,
   "metadata": {
    "collapsed": true
   },
   "outputs": [],
   "source": [
    "%matplotlib inline\n",
    "%reload_ext autoreload\n",
    "%autoreload 2\n",
    "%config InlineBackend.figure_format = 'retina'"
   ]
  },
  {
   "cell_type": "markdown",
   "metadata": {},
   "source": [
    "## Load pre-processed data"
   ]
  },
  {
   "cell_type": "code",
   "execution_count": 5,
   "metadata": {
    "collapsed": true
   },
   "outputs": [],
   "source": [
    "feats = pickle.load(open('data/feats.pkl', 'rb'))\n",
    "\n",
    "# Categorical features\n",
    "cat_ix_trn, cat_ix_dev, cat_ix_test, cat_ix_trn_dev = feats['cat_ix_trn'], feats['cat_ix_dev'], feats['cat_ix_test'], feats['cat_ix_trn_dev']\n",
    "\n",
    "# Numerical features\n",
    "cont_trn, cont_dev, cont_test, cont_trn_dev = feats['cont_trn'], feats['cont_dev'], feats['cont_test'], feats['cont_trn_dev']\n",
    "\n",
    "# Labels\n",
    "y_trn_oh, y_dev_oh, y_test_oh, y_trn_dev_oh = feats['y_trn_oh'], feats['y_dev_oh'], feats['y_test_oh'], feats['y_trn_dev_oh']\n",
    "\n",
    "# Supporting data\n",
    "cat_vars, cont_vars = feats['cat_vars'], feats['cont_vars']\n",
    "cat_mappers = feats['cat_mappers']\n",
    "max_len_trn, max_len_dev, max_len_test = feats['max_len_trn'], feats['max_len_dev'], feats['max_len_test']"
   ]
  },
  {
   "cell_type": "markdown",
   "metadata": {},
   "source": [
    "## Build model"
   ]
  },
  {
   "cell_type": "code",
   "execution_count": 5,
   "metadata": {
    "collapsed": true
   },
   "outputs": [],
   "source": [
    "K.clear_session()"
   ]
  },
  {
   "cell_type": "markdown",
   "metadata": {},
   "source": [
    "### Encode categorical features"
   ]
  },
  {
   "cell_type": "code",
   "execution_count": 6,
   "metadata": {
    "collapsed": true
   },
   "outputs": [],
   "source": [
    "def encode_cat(input_dim, output_dim, input_len=None, name=None):\n",
    "    input_tensor = Input(shape=(input_len, ), name=name)\n",
    "    output_tensor = layers.Embedding(input_dim=input_dim, output_dim=output_dim, mask_zero=True, input_length=input_len, name='embeded_{}'.format(name))(input_tensor)\n",
    "    return input_tensor, output_tensor"
   ]
  },
  {
   "cell_type": "code",
   "execution_count": 7,
   "metadata": {
    "collapsed": false
   },
   "outputs": [],
   "source": [
    "# Extract input and output dimensions\n",
    "cat_input_dims = {var: len(cat_mappers[var]['itos']) for var in cat_vars}\n",
    "cat_output_dims = {var: min(256, len(cat_mappers[var]['itos']) // 2) for var in cat_vars}"
   ]
  },
  {
   "cell_type": "code",
   "execution_count": 8,
   "metadata": {
    "collapsed": false
   },
   "outputs": [],
   "source": [
    "# Encode all categorical variables\n",
    "cat_input_tensors = {}\n",
    "cat_output_tensors = {}\n",
    "for var in cat_vars:\n",
    "    cat_input_tensors[var], cat_output_tensors[var] = encode_cat(cat_input_dims[var], cat_output_dims[var], name=var)"
   ]
  },
  {
   "cell_type": "markdown",
   "metadata": {},
   "source": [
    "### Encode numerical features"
   ]
  },
  {
   "cell_type": "code",
   "execution_count": 9,
   "metadata": {
    "collapsed": false,
    "scrolled": false
   },
   "outputs": [],
   "source": [
    "def encode_cont(input_len=None, name=None, padding_value=-1.):\n",
    "    input_tensor = Input(shape=(input_len, 1), name=name)\n",
    "    \n",
    "    # Add a masking layer to mask the padding value\n",
    "    output_tensor = layers.Masking(mask_value=padding_value, input_shape=(input_len, 1), name='masked_{}'.format(name))(input_tensor)\n",
    "    return input_tensor, output_tensor"
   ]
  },
  {
   "cell_type": "code",
   "execution_count": 10,
   "metadata": {
    "collapsed": false
   },
   "outputs": [],
   "source": [
    "# Encode all continuous variables\n",
    "cont_input_tensors = {}\n",
    "cont_output_tensors = {}\n",
    "for var in cont_vars:\n",
    "    cont_input_tensors[var], cont_output_tensors[var] = encode_cont(name=var)"
   ]
  },
  {
   "cell_type": "markdown",
   "metadata": {},
   "source": [
    "### Concatenate encoded features"
   ]
  },
  {
   "cell_type": "code",
   "execution_count": 11,
   "metadata": {
    "collapsed": false
   },
   "outputs": [
    {
     "data": {
      "text/plain": [
       "30"
      ]
     },
     "execution_count": 11,
     "metadata": {},
     "output_type": "execute_result"
    }
   ],
   "source": [
    "cat_cont_output_tensors = [cat_output_tensors[var] for var in cat_vars] + [cont_output_tensors[var] for var in cont_vars]\n",
    "len(cat_cont_output_tensors)"
   ]
  },
  {
   "cell_type": "code",
   "execution_count": 12,
   "metadata": {
    "collapsed": false
   },
   "outputs": [],
   "source": [
    "concat_tensor = layers.Concatenate(name='concat')(cat_cont_output_tensors)"
   ]
  },
  {
   "cell_type": "code",
   "execution_count": 13,
   "metadata": {
    "collapsed": true
   },
   "outputs": [],
   "source": [
    "# Add batch normalization\n",
    "concat_tensor_norm = layers.BatchNormalization()(concat_tensor)"
   ]
  },
  {
   "cell_type": "markdown",
   "metadata": {},
   "source": [
    "### Feed into RNN"
   ]
  },
  {
   "cell_type": "code",
   "execution_count": 14,
   "metadata": {
    "collapsed": true
   },
   "outputs": [],
   "source": [
    "def add_bidir_rnn_layers(x, rnn_type, rnn_hidden_units, rnn_input_dropout, rnn_layers):\n",
    "    for i in range(rnn_layers):\n",
    "        if rnn_type == 'GRU':\n",
    "            x = layers.Bidirectional(layers.GRU(units=rnn_hidden_units, dropout=rnn_input_dropout, return_sequences=True))(x)\n",
    "        elif rnn_type == 'LSTM':\n",
    "            x = layers.Bidirectional(layers.LSTM(units=rnn_hidden_units, dropout=rnn_input_dropout, return_sequences=True))(x)\n",
    "    return x"
   ]
  },
  {
   "cell_type": "code",
   "execution_count": 15,
   "metadata": {
    "collapsed": true
   },
   "outputs": [],
   "source": [
    "rnn_type = 'GRU'\n",
    "rnn_hidden_units = 256\n",
    "rnn_input_dropout = .3\n",
    "rnn_layers = 1\n",
    "\n",
    "rnn_output = add_bidir_rnn_layers(concat_tensor_norm, rnn_type, rnn_hidden_units, rnn_input_dropout, rnn_layers)"
   ]
  },
  {
   "cell_type": "markdown",
   "metadata": {},
   "source": [
    "### Add final dense layers"
   ]
  },
  {
   "cell_type": "code",
   "execution_count": 16,
   "metadata": {
    "collapsed": true
   },
   "outputs": [],
   "source": [
    "def add_final_dense_layers(x, dense_units, activations, dropouts):\n",
    "    for i in range(len(dense_units)):\n",
    "        x = layers.Dropout(dropouts[i])(x)\n",
    "        x = layers.Dense(units=dense_units[i], activation=activations[i])(x)\n",
    "    return x"
   ]
  },
  {
   "cell_type": "code",
   "execution_count": 17,
   "metadata": {
    "collapsed": true
   },
   "outputs": [],
   "source": [
    "dense_units = [256, y_trn_oh.shape[-1]]\n",
    "activations = ['relu', 'softmax']\n",
    "dropouts = [.2, .1]\n",
    "\n",
    "dense_output = add_final_dense_layers(rnn_output, dense_units, activations, dropouts)"
   ]
  },
  {
   "cell_type": "markdown",
   "metadata": {},
   "source": [
    "### Put everything together"
   ]
  },
  {
   "cell_type": "code",
   "execution_count": 18,
   "metadata": {
    "collapsed": false,
    "scrolled": true
   },
   "outputs": [
    {
     "name": "stdout",
     "output_type": "stream",
     "text": [
      "__________________________________________________________________________________________________\n",
      "Layer (type)                    Output Shape         Param #     Connected to                     \n",
      "==================================================================================================\n",
      "track (InputLayer)              (None, None)         0                                            \n",
      "__________________________________________________________________________________________________\n",
      "user (InputLayer)               (None, None)         0                                            \n",
      "__________________________________________________________________________________________________\n",
      "countries (InputLayer)          (None, None)         0                                            \n",
      "__________________________________________________________________________________________________\n",
      "client (InputLayer)             (None, None)         0                                            \n",
      "__________________________________________________________________________________________________\n",
      "session (InputLayer)            (None, None)         0                                            \n",
      "__________________________________________________________________________________________________\n",
      "format (InputLayer)             (None, None)         0                                            \n",
      "__________________________________________________________________________________________________\n",
      "token_w_l2 (InputLayer)         (None, None)         0                                            \n",
      "__________________________________________________________________________________________________\n",
      "part_of_speech (InputLayer)     (None, None)         0                                            \n",
      "__________________________________________________________________________________________________\n",
      "dependency_label (InputLayer)   (None, None)         0                                            \n",
      "__________________________________________________________________________________________________\n",
      "morphological_features_case (In (None, None)         0                                            \n",
      "__________________________________________________________________________________________________\n",
      "morphological_features_definite (None, None)         0                                            \n",
      "__________________________________________________________________________________________________\n",
      "morphological_features_degree ( (None, None)         0                                            \n",
      "__________________________________________________________________________________________________\n",
      "morphological_features_foreign  (None, None)         0                                            \n",
      "__________________________________________________________________________________________________\n",
      "morphological_features_fpos (In (None, None)         0                                            \n",
      "__________________________________________________________________________________________________\n",
      "morphological_features_gender ( (None, None)         0                                            \n",
      "__________________________________________________________________________________________________\n",
      "morphological_features_mood (In (None, None)         0                                            \n",
      "__________________________________________________________________________________________________\n",
      "morphological_features_number ( (None, None)         0                                            \n",
      "__________________________________________________________________________________________________\n",
      "morphological_features_numtype  (None, None)         0                                            \n",
      "__________________________________________________________________________________________________\n",
      "morphological_features_person ( (None, None)         0                                            \n",
      "__________________________________________________________________________________________________\n",
      "morphological_features_polite ( (None, None)         0                                            \n",
      "__________________________________________________________________________________________________\n",
      "morphological_features_poss (In (None, None)         0                                            \n",
      "__________________________________________________________________________________________________\n",
      "morphological_features_prepcase (None, None)         0                                            \n",
      "__________________________________________________________________________________________________\n",
      "morphological_features_prontype (None, None)         0                                            \n",
      "__________________________________________________________________________________________________\n",
      "morphological_features_reflex ( (None, None)         0                                            \n",
      "__________________________________________________________________________________________________\n",
      "morphological_features_tense (I (None, None)         0                                            \n",
      "__________________________________________________________________________________________________\n",
      "morphological_features_verbform (None, None)         0                                            \n",
      "__________________________________________________________________________________________________\n",
      "morphological_features_voice (I (None, None)         0                                            \n",
      "__________________________________________________________________________________________________\n",
      "days (InputLayer)               (None, None, 1)      0                                            \n",
      "__________________________________________________________________________________________________\n",
      "dependency_edge_head (InputLaye (None, None, 1)      0                                            \n",
      "__________________________________________________________________________________________________\n",
      "time (InputLayer)               (None, None, 1)      0                                            \n",
      "__________________________________________________________________________________________________\n",
      "embeded_track (Embedding)       (None, None, 2)      10          track[0][0]                      \n",
      "__________________________________________________________________________________________________\n",
      "embeded_user (Embedding)        (None, None, 256)    1650944     user[0][0]                       \n",
      "__________________________________________________________________________________________________\n",
      "embeded_countries (Embedding)   (None, None, 64)     8192        countries[0][0]                  \n",
      "__________________________________________________________________________________________________\n",
      "embeded_client (Embedding)      (None, None, 2)      10          client[0][0]                     \n",
      "__________________________________________________________________________________________________\n",
      "embeded_session (Embedding)     (None, None, 2)      10          session[0][0]                    \n",
      "__________________________________________________________________________________________________\n",
      "embeded_format (Embedding)      (None, None, 2)      10          format[0][0]                     \n",
      "__________________________________________________________________________________________________\n",
      "embeded_token_w_l2 (Embedding)  (None, None, 256)    1647360     token_w_l2[0][0]                 \n",
      "__________________________________________________________________________________________________\n",
      "embeded_part_of_speech (Embeddi (None, None, 9)      171         part_of_speech[0][0]             \n",
      "__________________________________________________________________________________________________\n",
      "embeded_dependency_label (Embed (None, None, 22)     968         dependency_label[0][0]           \n",
      "__________________________________________________________________________________________________\n",
      "embeded_morphological_features_ (None, None, 4)      32          morphological_features_case[0][0]\n",
      "__________________________________________________________________________________________________\n",
      "embeded_morphological_features_ (None, None, 2)      10          morphological_features_definite[0\n",
      "__________________________________________________________________________________________________\n",
      "embeded_morphological_features_ (None, None, 3)      21          morphological_features_degree[0][\n",
      "__________________________________________________________________________________________________\n",
      "embeded_morphological_features_ (None, None, 2)      8           morphological_features_foreign[0]\n",
      "__________________________________________________________________________________________________\n",
      "embeded_morphological_features_ (None, None, 32)     2080        morphological_features_fpos[0][0]\n",
      "__________________________________________________________________________________________________\n",
      "embeded_morphological_features_ (None, None, 3)      18          morphological_features_gender[0][\n",
      "__________________________________________________________________________________________________\n",
      "embeded_morphological_features_ (None, None, 3)      21          morphological_features_mood[0][0]\n",
      "__________________________________________________________________________________________________\n",
      "embeded_morphological_features_ (None, None, 2)      10          morphological_features_number[0][\n",
      "__________________________________________________________________________________________________\n",
      "embeded_morphological_features_ (None, None, 3)      18          morphological_features_numtype[0]\n",
      "__________________________________________________________________________________________________\n",
      "embeded_morphological_features_ (None, None, 3)      18          morphological_features_person[0][\n",
      "__________________________________________________________________________________________________\n",
      "embeded_morphological_features_ (None, None, 2)      8           morphological_features_polite[0][\n",
      "__________________________________________________________________________________________________\n",
      "embeded_morphological_features_ (None, None, 2)      8           morphological_features_poss[0][0]\n",
      "__________________________________________________________________________________________________\n",
      "embeded_morphological_features_ (None, None, 2)      10          morphological_features_prepcase[0\n",
      "__________________________________________________________________________________________________\n",
      "embeded_morphological_features_ (None, None, 6)      72          morphological_features_prontype[0\n",
      "__________________________________________________________________________________________________\n",
      "embeded_morphological_features_ (None, None, 2)      8           morphological_features_reflex[0][\n",
      "__________________________________________________________________________________________________\n",
      "embeded_morphological_features_ (None, None, 3)      21          morphological_features_tense[0][0\n",
      "__________________________________________________________________________________________________\n",
      "embeded_morphological_features_ (None, None, 3)      21          morphological_features_verbform[0\n",
      "__________________________________________________________________________________________________\n",
      "embeded_morphological_features_ (None, None, 2)      8           morphological_features_voice[0][0\n",
      "__________________________________________________________________________________________________\n",
      "masked_days (Masking)           (None, None, 1)      0           days[0][0]                       \n",
      "__________________________________________________________________________________________________\n",
      "masked_dependency_edge_head (Ma (None, None, 1)      0           dependency_edge_head[0][0]       \n",
      "__________________________________________________________________________________________________\n",
      "masked_time (Masking)           (None, None, 1)      0           time[0][0]                       \n",
      "__________________________________________________________________________________________________\n",
      "concat (Concatenate)            (None, None, 697)    0           embeded_track[0][0]              \n",
      "                                                                 embeded_user[0][0]               \n",
      "                                                                 embeded_countries[0][0]          \n",
      "                                                                 embeded_client[0][0]             \n",
      "                                                                 embeded_session[0][0]            \n",
      "                                                                 embeded_format[0][0]             \n",
      "                                                                 embeded_token_w_l2[0][0]         \n",
      "                                                                 embeded_part_of_speech[0][0]     \n",
      "                                                                 embeded_dependency_label[0][0]   \n",
      "                                                                 embeded_morphological_features_ca\n",
      "                                                                 embeded_morphological_features_de\n",
      "                                                                 embeded_morphological_features_de\n",
      "                                                                 embeded_morphological_features_fo\n",
      "                                                                 embeded_morphological_features_fp\n",
      "                                                                 embeded_morphological_features_ge\n",
      "                                                                 embeded_morphological_features_mo\n",
      "                                                                 embeded_morphological_features_nu\n",
      "                                                                 embeded_morphological_features_nu\n",
      "                                                                 embeded_morphological_features_pe\n",
      "                                                                 embeded_morphological_features_po\n",
      "                                                                 embeded_morphological_features_po\n",
      "                                                                 embeded_morphological_features_pr\n",
      "                                                                 embeded_morphological_features_pr\n",
      "                                                                 embeded_morphological_features_re\n",
      "                                                                 embeded_morphological_features_te\n",
      "                                                                 embeded_morphological_features_ve\n",
      "                                                                 embeded_morphological_features_vo\n",
      "                                                                 masked_days[0][0]                \n",
      "                                                                 masked_dependency_edge_head[0][0]\n",
      "                                                                 masked_time[0][0]                \n",
      "__________________________________________________________________________________________________\n",
      "batch_normalization_1 (BatchNor (None, None, 697)    2788        concat[0][0]                     \n",
      "__________________________________________________________________________________________________\n",
      "bidirectional_1 (Bidirectional) (None, None, 512)    1465344     batch_normalization_1[0][0]      \n",
      "__________________________________________________________________________________________________\n",
      "dropout_1 (Dropout)             (None, None, 512)    0           bidirectional_1[0][0]            \n",
      "__________________________________________________________________________________________________\n",
      "dense_1 (Dense)                 (None, None, 256)    131328      dropout_1[0][0]                  \n",
      "__________________________________________________________________________________________________\n",
      "dropout_2 (Dropout)             (None, None, 256)    0           dense_1[0][0]                    \n",
      "__________________________________________________________________________________________________\n",
      "dense_2 (Dense)                 (None, None, 3)      771         dropout_2[0][0]                  \n",
      "==================================================================================================\n",
      "Total params: 4,910,298\n",
      "Trainable params: 4,908,904\n",
      "Non-trainable params: 1,394\n",
      "__________________________________________________________________________________________________\n"
     ]
    }
   ],
   "source": [
    "inputs = [cat_input_tensors[var] for var in cat_vars] + [cont_input_tensors[var] for var in cont_vars]\n",
    "rnn = Model(inputs=inputs, outputs=dense_output)\n",
    "rnn.summary()"
   ]
  },
  {
   "cell_type": "code",
   "execution_count": 19,
   "metadata": {
    "collapsed": true
   },
   "outputs": [],
   "source": [
    "# Compile\n",
    "lr = .001\n",
    "optimizer = Adam(lr=lr)\n",
    "\n",
    "rnn.compile(optimizer=optimizer, loss='categorical_crossentropy', metrics=['accuracy'])"
   ]
  },
  {
   "cell_type": "code",
   "execution_count": 20,
   "metadata": {
    "collapsed": true
   },
   "outputs": [],
   "source": [
    "# Define custom metrics\n",
    "class Metrics(Callback):\n",
    "    def on_train_begin(self, logs={}):\n",
    "        self.metrics = []\n",
    "\n",
    "    def on_epoch_end(self, epoch, logs={}):\n",
    "        # Extract validation data\n",
    "        input_len = len(self.model.input)\n",
    "        x_val = list(self.validation_data[:input_len])\n",
    "        y_val = self.validation_data[input_len]\n",
    "        \n",
    "        # Generate predictions\n",
    "        y_val_pred_prob = self.model.predict(x_val)\n",
    "        \n",
    "        # Reshape to 2D (thus concatenating all observations together)\n",
    "        y_val_rs = y_val.reshape(-1, 3)\n",
    "        y_val_pred_prob_rs = y_val_pred_prob.reshape(-1, 3)\n",
    "\n",
    "        # Remove padded observations\n",
    "        # (the first vertical axis indicates whether it's a padded observation or not)\n",
    "        non_pad_ix = np.where(y_val_rs[:, 0] == 0)[0]\n",
    "        y_val_rs = y_val_rs[non_pad_ix, :]\n",
    "        y_val_pred_prob_rs = y_val_pred_prob_rs[non_pad_ix, :]\n",
    "\n",
    "        # Only evaluate on the positive class\n",
    "        y_val_rs = y_val_rs[:, -1]\n",
    "        y_val_pred_prob_rs = y_val_pred_prob_rs[:, -1]\n",
    "        \n",
    "        # Compute metrics\n",
    "        metrics = evaluate_metrics(y_val_rs, y_val_pred_prob_rs)\n",
    "        print(' - val_f1: {} - val_accuracy: {} - val_auroc: {} - val_avg_logloss: {}'.format(round(metrics['F1'], 3), round(metrics['accuracy'], 3), round(metrics['auroc'], 3), round(metrics['avglogloss'], 3)))\n",
    "        self.metrics.append(metrics)\n",
    "        \n",
    "        return"
   ]
  },
  {
   "cell_type": "code",
   "execution_count": 21,
   "metadata": {
    "collapsed": true
   },
   "outputs": [],
   "source": [
    "# Add callbacks\n",
    "callbacks = []\n",
    "\n",
    "reduce_lr = ReduceLROnPlateau(monitor='val_loss', factor=0.1, patience=5, verbose=1)\n",
    "callbacks.append(reduce_lr)\n",
    "\n",
    "stopper = EarlyStopping(monitor='val_loss', patience=5, verbose=1)\n",
    "callbacks.append(stopper)\n",
    "\n",
    "checkpoint = ModelCheckpoint(filepath='models/gru.h5', monitor='val_loss', save_best_only=True, verbose=1)\n",
    "callbacks.append(checkpoint)\n",
    "\n",
    "# Due to the amount of time it takes to generate predictions on the dev set,\n",
    "# custom metrics are not computed.\n",
    "# metrics = Metrics()\n",
    "# callbacks.append(metrics)"
   ]
  },
  {
   "cell_type": "code",
   "execution_count": 22,
   "metadata": {
    "collapsed": true
   },
   "outputs": [],
   "source": [
    "# Put togther training and validation data\n",
    "x_trn = [cat_ix_trn[var] for var in cat_vars] + [cont_trn[var] for var in cont_vars]\n",
    "x_dev = [cat_ix_dev[var] for var in cat_vars] + [cont_dev[var] for var in cont_vars]"
   ]
  },
  {
   "cell_type": "markdown",
   "metadata": {},
   "source": [
    "## Train model"
   ]
  },
  {
   "cell_type": "code",
   "execution_count": 23,
   "metadata": {
    "collapsed": true
   },
   "outputs": [],
   "source": [
    "epochs = 20\n",
    "bs = 64"
   ]
  },
  {
   "cell_type": "code",
   "execution_count": null,
   "metadata": {
    "collapsed": false,
    "scrolled": true
   },
   "outputs": [
    {
     "name": "stdout",
     "output_type": "stream",
     "text": [
      "Train on 6447 samples, validate on 6437 samples\n",
      "Epoch 1/20\n",
      "6447/6447 [==============================] - 734s 114ms/step - loss: 0.3942 - acc: 0.8565 - val_loss: 0.3777 - val_acc: 0.8504\n",
      "\n",
      "Epoch 00001: val_loss improved from inf to 0.37769, saving model to models/gru.h5\n"
     ]
    }
   ],
   "source": [
    "# Train\n",
    "rnn_hist = rnn.fit(\n",
    "    x=x_trn,\n",
    "    y=y_trn_oh,\n",
    "    batch_size=bs,\n",
    "    epochs=epochs,\n",
    "    callbacks=callbacks,\n",
    "    validation_data=(x_dev, y_dev_oh),\n",
    "    shuffle=True)"
   ]
  },
  {
   "cell_type": "code",
   "execution_count": 25,
   "metadata": {
    "collapsed": false
   },
   "outputs": [
    {
     "data": {
      "text/plain": [
       "<matplotlib.lines.Line2D at 0x7f17e52db518>"
      ]
     },
     "execution_count": 25,
     "metadata": {},
     "output_type": "execute_result"
    },
    {
     "data": {
      "image/png": "[encoded data removed]",
      "text/plain": [
       "<matplotlib.figure.Figure at 0x7f188cf46c18>"
      ]
     },
     "metadata": {
      "image/png": {
       "height": 258,
       "width": 370
      }
     },
     "output_type": "display_data"
    }
   ],
   "source": [
    "# Plot metrics\n",
    "metrics_df = pd.DataFrame(metrics.metrics)\n",
    "metrics_df.index = range(1, len(metrics_df) + 1)\n",
    "\n",
    "# Find the epoch with the smallest loss\n",
    "min_loss_ix = metrics_df['avglogloss'].idxmin()\n",
    "\n",
    "# Plot\n",
    "ax = metrics_df.plot()\n",
    "ax.axvline(x=min_loss_ix, color='black', ls='--')"
   ]
  },
  {
   "cell_type": "markdown",
   "metadata": {
    "collapsed": true
   },
   "source": [
    "## Re-train using both the traning and dev data"
   ]
  },
  {
   "cell_type": "code",
   "execution_count": 30,
   "metadata": {
    "collapsed": true
   },
   "outputs": [],
   "source": [
    "epochs = 10\n",
    "bs = 64\n",
    "x_trn_dev = [cat_ix_trn_dev[var] for var in cat_vars] + [cont_trn_dev[var] for var in cont_vars]"
   ]
  },
  {
   "cell_type": "code",
   "execution_count": null,
   "metadata": {
    "collapsed": false
   },
   "outputs": [
    {
     "name": "stdout",
     "output_type": "stream",
     "text": [
      "Epoch 1/10\n",
      " 320/6447 [>.............................] - ETA: 10:57 - loss: 0.7161 - acc: 0.7174"
     ]
    }
   ],
   "source": [
    "rnn_combined_hist = rnn.fit(\n",
    "    x=x_trn_dev,\n",
    "    y=y_trn_dev_oh,\n",
    "    batch_size=bs,\n",
    "    epochs=epochs,\n",
    "    shuffle=True)"
   ]
  },
  {
   "cell_type": "code",
   "execution_count": 33,
   "metadata": {
    "collapsed": true
   },
   "outputs": [],
   "source": [
    "rnn.save('models/gru_trn_dev_combined.h5')"
   ]
  },
  {
   "cell_type": "code",
   "execution_count": null,
   "metadata": {
    "collapsed": true
   },
   "outputs": [],
   "source": []
  }
 ],
 "metadata": {
  "kernelspec": {
   "display_name": "Python 3 (General DS)",
   "language": "python",
   "name": "python3"
  },
  "language_info": {
   "codemirror_mode": {
    "name": "ipython",
    "version": 3
   },
   "file_extension": ".py",
   "mimetype": "text/x-python",
   "name": "python",
   "nbconvert_exporter": "python",
   "pygments_lexer": "ipython3",
   "version": "3.6.4"
  }
 },
 "nbformat": 4,
 "nbformat_minor": 2
}

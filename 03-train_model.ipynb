{
 "cells": [
  {
   "cell_type": "code",
   "execution_count": 1,
   "metadata": {
    "collapsed": true
   },
   "outputs": [],
   "source": [
    "import numpy as np\n",
    "import pandas as pd\n",
    "import re\n",
    "import dill as pickle\n",
    "import seaborn as sns\n",
    "import matplotlib.pyplot as plt\n",
    "from eval import *\n",
    "\n",
    "sns.set_style('whitegrid')\n",
    "pd.options.display.max_colwidth = 200\n",
    "pd.options.display.max_rows = 300"
   ]
  },
  {
   "cell_type": "code",
   "execution_count": 2,
   "metadata": {
    "collapsed": false
   },
   "outputs": [
    {
     "name": "stderr",
     "output_type": "stream",
     "text": [
      "Using TensorFlow backend.\n"
     ]
    }
   ],
   "source": [
    "from keras import Input, layers\n",
    "from keras.activations import sigmoid\n",
    "from keras.models import Model, load_model\n",
    "from keras.optimizers import Adam\n",
    "from keras.callbacks import ReduceLROnPlateau, EarlyStopping, ModelCheckpoint, Callback\n",
    "from keras import backend as K"
   ]
  },
  {
   "cell_type": "code",
   "execution_count": 3,
   "metadata": {
    "collapsed": true
   },
   "outputs": [],
   "source": [
    "%matplotlib inline\n",
    "%reload_ext autoreload\n",
    "%autoreload 2\n",
    "%config InlineBackend.figure_format = 'retina'"
   ]
  },
  {
   "cell_type": "markdown",
   "metadata": {},
   "source": [
    "## Load pre-processed data"
   ]
  },
  {
   "cell_type": "code",
   "execution_count": 4,
   "metadata": {
    "collapsed": true
   },
   "outputs": [],
   "source": [
    "feats = pickle.load(open('data/feats.pkl', 'rb'))\n",
    "\n",
    "# Categorical features\n",
    "cat_ix_trn, cat_ix_dev, cat_ix_test = feats['cat_ix_trn'], feats['cat_ix_dev'], feats['cat_ix_test']\n",
    "\n",
    "# Numerical features\n",
    "cont_trn, cont_dev, cont_test = feats['cont_trn'], feats['cont_dev'], feats['cont_test']\n",
    "\n",
    "# Labels\n",
    "y_trn_oh, y_dev_oh, y_test_oh = feats['y_trn_oh'], feats['y_dev_oh'], feats['y_test_oh']\n",
    "\n",
    "# Supporting data\n",
    "cat_vars, cont_vars = feats['cat_vars'], feats['cont_vars']\n",
    "cat_mappers = feats['cat_mappers']\n",
    "max_len = feats['max_len']"
   ]
  },
  {
   "cell_type": "markdown",
   "metadata": {},
   "source": [
    "## Build model"
   ]
  },
  {
   "cell_type": "code",
   "execution_count": 5,
   "metadata": {
    "collapsed": true
   },
   "outputs": [],
   "source": [
    "K.clear_session()"
   ]
  },
  {
   "cell_type": "markdown",
   "metadata": {},
   "source": [
    "### Encode categorical features"
   ]
  },
  {
   "cell_type": "code",
   "execution_count": 6,
   "metadata": {
    "collapsed": true
   },
   "outputs": [],
   "source": [
    "def encode_cat(input_dim, output_dim, input_len, name=None):\n",
    "    input_tensor = Input(shape=(input_len, ), name=name)\n",
    "    output_tensor = layers.Embedding(input_dim=input_dim, output_dim=output_dim, mask_zero=True, input_length=input_len, name='embeded_{}'.format(name))(input_tensor)\n",
    "    return input_tensor, output_tensor"
   ]
  },
  {
   "cell_type": "code",
   "execution_count": 7,
   "metadata": {
    "collapsed": false
   },
   "outputs": [],
   "source": [
    "# Extract input and output dimensions\n",
    "cat_input_dims = {var: len(cat_mappers[var]['itos']) for var in cat_vars}\n",
    "cat_output_dims = {var: min(256, len(cat_mappers[var]['itos']) // 2) for var in cat_vars}"
   ]
  },
  {
   "cell_type": "code",
   "execution_count": 8,
   "metadata": {
    "collapsed": false
   },
   "outputs": [],
   "source": [
    "# Encode all categorical variables\n",
    "cat_input_tensors = {}\n",
    "cat_output_tensors = {}\n",
    "for var in cat_vars:\n",
    "    cat_input_tensors[var], cat_output_tensors[var] = encode_cat(cat_input_dims[var], cat_output_dims[var], max_len, var)"
   ]
  },
  {
   "cell_type": "markdown",
   "metadata": {},
   "source": [
    "### Encode numerical features"
   ]
  },
  {
   "cell_type": "code",
   "execution_count": 9,
   "metadata": {
    "collapsed": false,
    "scrolled": true
   },
   "outputs": [],
   "source": [
    "def encode_cont(input_len, name=None):\n",
    "    input_tensor = Input(shape=(input_len, ), name=name)\n",
    "    \n",
    "    # Reshape to add an extra dimension in the end\n",
    "    # (in order to concatenate with the embedded categorical inputs)\n",
    "    output_tensor = layers.Reshape(target_shape=(input_len, 1), name='reshaped_{}'.format(name))(input_tensor)\n",
    "    return input_tensor, output_tensor"
   ]
  },
  {
   "cell_type": "code",
   "execution_count": 10,
   "metadata": {
    "collapsed": false
   },
   "outputs": [],
   "source": [
    "# Encode all continuous variables\n",
    "cont_input_tensors = {}\n",
    "cont_output_tensors = {}\n",
    "for var in cont_vars:\n",
    "    cont_input_tensors[var], cont_output_tensors[var] = encode_cont(max_len, var)"
   ]
  },
  {
   "cell_type": "markdown",
   "metadata": {},
   "source": [
    "### Concatenate encoded features"
   ]
  },
  {
   "cell_type": "code",
   "execution_count": 11,
   "metadata": {
    "collapsed": false
   },
   "outputs": [
    {
     "data": {
      "text/plain": [
       "30"
      ]
     },
     "execution_count": 11,
     "metadata": {},
     "output_type": "execute_result"
    }
   ],
   "source": [
    "cat_cont_output_tensors = [cat_output_tensors[var] for var in cat_vars] + [cont_output_tensors[var] for var in cont_vars]\n",
    "len(cat_cont_output_tensors)"
   ]
  },
  {
   "cell_type": "code",
   "execution_count": 12,
   "metadata": {
    "collapsed": false
   },
   "outputs": [],
   "source": [
    "concat_tensor = layers.Concatenate(name='concat')(cat_cont_output_tensors)"
   ]
  },
  {
   "cell_type": "code",
   "execution_count": 13,
   "metadata": {
    "collapsed": true
   },
   "outputs": [],
   "source": [
    "# Add batch normalization\n",
    "concat_tensor_norm = layers.BatchNormalization()(concat_tensor)"
   ]
  },
  {
   "cell_type": "markdown",
   "metadata": {},
   "source": [
    "### Feed into RNN"
   ]
  },
  {
   "cell_type": "code",
   "execution_count": 14,
   "metadata": {
    "collapsed": true
   },
   "outputs": [],
   "source": [
    "rnn_hidden_units = 256\n",
    "rnn_input_dropout = .3\n",
    "\n",
    "rnn_output = layers.Bidirectional(layers.GRU(units=rnn_hidden_units, dropout=rnn_input_dropout, return_sequences=True))(concat_tensor_norm)"
   ]
  },
  {
   "cell_type": "markdown",
   "metadata": {},
   "source": [
    "### Add final dense layers"
   ]
  },
  {
   "cell_type": "code",
   "execution_count": 15,
   "metadata": {
    "collapsed": true
   },
   "outputs": [],
   "source": [
    "def add_final_dense_layers(x, dense_units, activations, dropouts):\n",
    "    for i in range(len(dense_units)):\n",
    "        x = layers.Dropout(dropouts[i])(x)\n",
    "        x = layers.Dense(units=dense_units[i], activation=activations[i])(x)\n",
    "    return x"
   ]
  },
  {
   "cell_type": "code",
   "execution_count": 16,
   "metadata": {
    "collapsed": true
   },
   "outputs": [],
   "source": [
    "dense_units = [128, y_trn_oh.shape[-1]]\n",
    "activations = ['relu', 'softmax']\n",
    "dropouts = [.2, .1]\n",
    "\n",
    "dense_output = add_final_dense_layers(rnn_output, dense_units, activations, dropouts)"
   ]
  },
  {
   "cell_type": "markdown",
   "metadata": {},
   "source": [
    "### Put everything together"
   ]
  },
  {
   "cell_type": "code",
   "execution_count": 17,
   "metadata": {
    "collapsed": false,
    "scrolled": true
   },
   "outputs": [
    {
     "name": "stdout",
     "output_type": "stream",
     "text": [
      "__________________________________________________________________________________________________\n",
      "Layer (type)                    Output Shape         Param #     Connected to                     \n",
      "==================================================================================================\n",
      "track (InputLayer)              (None, 1288)         0                                            \n",
      "__________________________________________________________________________________________________\n",
      "user (InputLayer)               (None, 1288)         0                                            \n",
      "__________________________________________________________________________________________________\n",
      "countries (InputLayer)          (None, 1288)         0                                            \n",
      "__________________________________________________________________________________________________\n",
      "client (InputLayer)             (None, 1288)         0                                            \n",
      "__________________________________________________________________________________________________\n",
      "session (InputLayer)            (None, 1288)         0                                            \n",
      "__________________________________________________________________________________________________\n",
      "format (InputLayer)             (None, 1288)         0                                            \n",
      "__________________________________________________________________________________________________\n",
      "token_w_l2 (InputLayer)         (None, 1288)         0                                            \n",
      "__________________________________________________________________________________________________\n",
      "part_of_speech (InputLayer)     (None, 1288)         0                                            \n",
      "__________________________________________________________________________________________________\n",
      "dependency_label (InputLayer)   (None, 1288)         0                                            \n",
      "__________________________________________________________________________________________________\n",
      "morphological_features_case (In (None, 1288)         0                                            \n",
      "__________________________________________________________________________________________________\n",
      "morphological_features_definite (None, 1288)         0                                            \n",
      "__________________________________________________________________________________________________\n",
      "morphological_features_degree ( (None, 1288)         0                                            \n",
      "__________________________________________________________________________________________________\n",
      "morphological_features_foreign  (None, 1288)         0                                            \n",
      "__________________________________________________________________________________________________\n",
      "morphological_features_fpos (In (None, 1288)         0                                            \n",
      "__________________________________________________________________________________________________\n",
      "morphological_features_gender ( (None, 1288)         0                                            \n",
      "__________________________________________________________________________________________________\n",
      "morphological_features_mood (In (None, 1288)         0                                            \n",
      "__________________________________________________________________________________________________\n",
      "morphological_features_number ( (None, 1288)         0                                            \n",
      "__________________________________________________________________________________________________\n",
      "morphological_features_numtype  (None, 1288)         0                                            \n",
      "__________________________________________________________________________________________________\n",
      "morphological_features_person ( (None, 1288)         0                                            \n",
      "__________________________________________________________________________________________________\n",
      "morphological_features_polite ( (None, 1288)         0                                            \n",
      "__________________________________________________________________________________________________\n",
      "morphological_features_poss (In (None, 1288)         0                                            \n",
      "__________________________________________________________________________________________________\n",
      "morphological_features_prepcase (None, 1288)         0                                            \n",
      "__________________________________________________________________________________________________\n",
      "morphological_features_prontype (None, 1288)         0                                            \n",
      "__________________________________________________________________________________________________\n",
      "morphological_features_reflex ( (None, 1288)         0                                            \n",
      "__________________________________________________________________________________________________\n",
      "morphological_features_tense (I (None, 1288)         0                                            \n",
      "__________________________________________________________________________________________________\n",
      "morphological_features_verbform (None, 1288)         0                                            \n",
      "__________________________________________________________________________________________________\n",
      "morphological_features_voice (I (None, 1288)         0                                            \n",
      "__________________________________________________________________________________________________\n",
      "days (InputLayer)               (None, 1288)         0                                            \n",
      "__________________________________________________________________________________________________\n",
      "dependency_edge_head (InputLaye (None, 1288)         0                                            \n",
      "__________________________________________________________________________________________________\n",
      "time (InputLayer)               (None, 1288)         0                                            \n",
      "__________________________________________________________________________________________________\n",
      "embeded_track (Embedding)       (None, 1288, 2)      10          track[0][0]                      \n",
      "__________________________________________________________________________________________________\n",
      "embeded_user (Embedding)        (None, 1288, 256)    1650944     user[0][0]                       \n",
      "__________________________________________________________________________________________________\n",
      "embeded_countries (Embedding)   (None, 1288, 64)     8192        countries[0][0]                  \n",
      "__________________________________________________________________________________________________\n",
      "embeded_client (Embedding)      (None, 1288, 2)      10          client[0][0]                     \n",
      "__________________________________________________________________________________________________\n",
      "embeded_session (Embedding)     (None, 1288, 2)      10          session[0][0]                    \n",
      "__________________________________________________________________________________________________\n",
      "embeded_format (Embedding)      (None, 1288, 2)      10          format[0][0]                     \n",
      "__________________________________________________________________________________________________\n",
      "embeded_token_w_l2 (Embedding)  (None, 1288, 256)    1341440     token_w_l2[0][0]                 \n",
      "__________________________________________________________________________________________________\n",
      "embeded_part_of_speech (Embeddi (None, 1288, 9)      162         part_of_speech[0][0]             \n",
      "__________________________________________________________________________________________________\n",
      "embeded_dependency_label (Embed (None, 1288, 21)     903         dependency_label[0][0]           \n",
      "__________________________________________________________________________________________________\n",
      "embeded_morphological_features_ (None, 1288, 4)      32          morphological_features_case[0][0]\n",
      "__________________________________________________________________________________________________\n",
      "embeded_morphological_features_ (None, 1288, 2)      10          morphological_features_definite[0\n",
      "__________________________________________________________________________________________________\n",
      "embeded_morphological_features_ (None, 1288, 3)      21          morphological_features_degree[0][\n",
      "__________________________________________________________________________________________________\n",
      "embeded_morphological_features_ (None, 1288, 2)      8           morphological_features_foreign[0]\n",
      "__________________________________________________________________________________________________\n",
      "embeded_morphological_features_ (None, 1288, 32)     2080        morphological_features_fpos[0][0]\n",
      "__________________________________________________________________________________________________\n",
      "embeded_morphological_features_ (None, 1288, 3)      18          morphological_features_gender[0][\n",
      "__________________________________________________________________________________________________\n",
      "embeded_morphological_features_ (None, 1288, 3)      21          morphological_features_mood[0][0]\n",
      "__________________________________________________________________________________________________\n",
      "embeded_morphological_features_ (None, 1288, 2)      10          morphological_features_number[0][\n",
      "__________________________________________________________________________________________________\n",
      "embeded_morphological_features_ (None, 1288, 3)      18          morphological_features_numtype[0]\n",
      "__________________________________________________________________________________________________\n",
      "embeded_morphological_features_ (None, 1288, 3)      18          morphological_features_person[0][\n",
      "__________________________________________________________________________________________________\n",
      "embeded_morphological_features_ (None, 1288, 2)      8           morphological_features_polite[0][\n",
      "__________________________________________________________________________________________________\n",
      "embeded_morphological_features_ (None, 1288, 2)      8           morphological_features_poss[0][0]\n",
      "__________________________________________________________________________________________________\n",
      "embeded_morphological_features_ (None, 1288, 2)      10          morphological_features_prepcase[0\n",
      "__________________________________________________________________________________________________\n",
      "embeded_morphological_features_ (None, 1288, 6)      72          morphological_features_prontype[0\n",
      "__________________________________________________________________________________________________\n",
      "embeded_morphological_features_ (None, 1288, 2)      8           morphological_features_reflex[0][\n",
      "__________________________________________________________________________________________________\n",
      "embeded_morphological_features_ (None, 1288, 3)      21          morphological_features_tense[0][0\n",
      "__________________________________________________________________________________________________\n",
      "embeded_morphological_features_ (None, 1288, 3)      21          morphological_features_verbform[0\n",
      "__________________________________________________________________________________________________\n",
      "embeded_morphological_features_ (None, 1288, 2)      8           morphological_features_voice[0][0\n",
      "__________________________________________________________________________________________________\n",
      "reshaped_days (Reshape)         (None, 1288, 1)      0           days[0][0]                       \n",
      "__________________________________________________________________________________________________\n",
      "reshaped_dependency_edge_head ( (None, 1288, 1)      0           dependency_edge_head[0][0]       \n",
      "__________________________________________________________________________________________________\n",
      "reshaped_time (Reshape)         (None, 1288, 1)      0           time[0][0]                       \n",
      "__________________________________________________________________________________________________\n",
      "concat (Concatenate)            (None, 1288, 696)    0           embeded_track[0][0]              \n",
      "                                                                 embeded_user[0][0]               \n",
      "                                                                 embeded_countries[0][0]          \n",
      "                                                                 embeded_client[0][0]             \n",
      "                                                                 embeded_session[0][0]            \n",
      "                                                                 embeded_format[0][0]             \n",
      "                                                                 embeded_token_w_l2[0][0]         \n",
      "                                                                 embeded_part_of_speech[0][0]     \n",
      "                                                                 embeded_dependency_label[0][0]   \n",
      "                                                                 embeded_morphological_features_ca\n",
      "                                                                 embeded_morphological_features_de\n",
      "                                                                 embeded_morphological_features_de\n",
      "                                                                 embeded_morphological_features_fo\n",
      "                                                                 embeded_morphological_features_fp\n",
      "                                                                 embeded_morphological_features_ge\n",
      "                                                                 embeded_morphological_features_mo\n",
      "                                                                 embeded_morphological_features_nu\n",
      "                                                                 embeded_morphological_features_nu\n",
      "                                                                 embeded_morphological_features_pe\n",
      "                                                                 embeded_morphological_features_po\n",
      "                                                                 embeded_morphological_features_po\n",
      "                                                                 embeded_morphological_features_pr\n",
      "                                                                 embeded_morphological_features_pr\n",
      "                                                                 embeded_morphological_features_re\n",
      "                                                                 embeded_morphological_features_te\n",
      "                                                                 embeded_morphological_features_ve\n",
      "                                                                 embeded_morphological_features_vo\n",
      "                                                                 reshaped_days[0][0]              \n",
      "                                                                 reshaped_dependency_edge_head[0][\n",
      "                                                                 reshaped_time[0][0]              \n",
      "__________________________________________________________________________________________________\n",
      "batch_normalization_1 (BatchNor (None, 1288, 696)    2784        concat[0][0]                     \n",
      "__________________________________________________________________________________________________\n",
      "bidirectional_1 (Bidirectional) (None, 1288, 512)    1463808     batch_normalization_1[0][0]      \n",
      "__________________________________________________________________________________________________\n",
      "dropout_1 (Dropout)             (None, 1288, 512)    0           bidirectional_1[0][0]            \n",
      "__________________________________________________________________________________________________\n",
      "dense_1 (Dense)                 (None, 1288, 128)    65664       dropout_1[0][0]                  \n",
      "__________________________________________________________________________________________________\n",
      "dropout_2 (Dropout)             (None, 1288, 128)    0           dense_1[0][0]                    \n",
      "__________________________________________________________________________________________________\n",
      "dense_2 (Dense)                 (None, 1288, 3)      387         dropout_2[0][0]                  \n",
      "==================================================================================================\n",
      "Total params: 4,536,716\n",
      "Trainable params: 4,535,324\n",
      "Non-trainable params: 1,392\n",
      "__________________________________________________________________________________________________\n"
     ]
    }
   ],
   "source": [
    "inputs = [cat_input_tensors[var] for var in cat_vars] + [cont_input_tensors[var] for var in cont_vars]\n",
    "rnn = Model(inputs=inputs, outputs=dense_output)\n",
    "rnn.summary()"
   ]
  },
  {
   "cell_type": "code",
   "execution_count": 18,
   "metadata": {
    "collapsed": true
   },
   "outputs": [],
   "source": [
    "# Compile\n",
    "lr = .001\n",
    "optimizer = Adam(lr=lr)\n",
    "\n",
    "rnn.compile(optimizer=optimizer, loss='categorical_crossentropy', metrics=['accuracy'])"
   ]
  },
  {
   "cell_type": "code",
   "execution_count": 19,
   "metadata": {
    "collapsed": true
   },
   "outputs": [],
   "source": [
    "# Define custom metrics\n",
    "class Metrics(Callback):\n",
    "    def on_train_begin(self, logs={}):\n",
    "        self.metrics = []\n",
    "\n",
    "    def on_epoch_end(self, epoch, logs={}):\n",
    "        # Extract validation data\n",
    "        input_len = len(self.model.input)\n",
    "        x_val = list(self.validation_data[:input_len])\n",
    "        y_val = self.validation_data[input_len]\n",
    "        \n",
    "        # Generate predictions\n",
    "        y_val_pred_prob = self.model.predict(x_val)\n",
    "        \n",
    "        # Reshape to 2D (thus concatenating all observations together)\n",
    "        y_val_rs = y_val.reshape(-1, 3)\n",
    "        y_val_pred_prob_rs = y_val_pred_prob.reshape(-1, 3)\n",
    "\n",
    "        # Remove padded observations\n",
    "        # (the first vertical axis indicates whether it's a padded observation or not)\n",
    "        non_pad_ix = np.where(y_val_rs[:, 0] == 0)[0]\n",
    "        y_val_rs = y_val_rs[non_pad_ix, :]\n",
    "        y_val_pred_prob_rs = y_val_pred_prob_rs[non_pad_ix, :]\n",
    "\n",
    "        # Only evaluate on the positive class\n",
    "        y_val_rs = y_val_rs[:, -1]\n",
    "        y_val_pred_prob_rs = y_val_pred_prob_rs[:, -1]\n",
    "        \n",
    "        # Compute metrics\n",
    "        metrics = evaluate_metrics(y_val_rs, y_val_pred_prob_rs)\n",
    "        print(' - val_f1: {} - val_accuracy: {} - val_auroc: {} - val_avg_logloss: {}'.format(round(metrics['F1'], 3), round(metrics['accuracy'], 3), round(metrics['auroc'], 3), round(metrics['avglogloss'], 3)))\n",
    "        self.metrics.append(metrics)\n",
    "        \n",
    "        return"
   ]
  },
  {
   "cell_type": "code",
   "execution_count": 20,
   "metadata": {
    "collapsed": true
   },
   "outputs": [],
   "source": [
    "# Add callbacks\n",
    "callbacks = []\n",
    "\n",
    "reduce_lr = ReduceLROnPlateau(monitor='val_loss', factor=0.1, patience=5, verbose=1)\n",
    "callbacks.append(reduce_lr)\n",
    "\n",
    "stopper = EarlyStopping(monitor='val_loss', patience=5, verbose=1)\n",
    "callbacks.append(stopper)\n",
    "\n",
    "checkpoint = ModelCheckpoint(filepath='models/gru.h5', monitor='val_loss', save_best_only=True, verbose=1)\n",
    "callbacks.append(checkpoint)\n",
    "\n",
    "metrics = Metrics()\n",
    "callbacks.append(metrics)"
   ]
  },
  {
   "cell_type": "code",
   "execution_count": 21,
   "metadata": {
    "collapsed": true
   },
   "outputs": [],
   "source": [
    "# Put togther training and validation data\n",
    "x_trn = [cat_ix_trn[var] for var in cat_vars] + [cont_trn[var] for var in cont_vars]\n",
    "x_dev = [cat_ix_dev[var] for var in cat_vars] + [cont_dev[var] for var in cont_vars]"
   ]
  },
  {
   "cell_type": "markdown",
   "metadata": {},
   "source": [
    "## Train model"
   ]
  },
  {
   "cell_type": "code",
   "execution_count": 22,
   "metadata": {
    "collapsed": true
   },
   "outputs": [],
   "source": [
    "epochs = 10\n",
    "bs = 64"
   ]
  },
  {
   "cell_type": "code",
   "execution_count": 23,
   "metadata": {
    "collapsed": true
   },
   "outputs": [],
   "source": [
    "# x_trn_small = [x[:1000] for x in x_trn]\n",
    "# y_trn_oh_small = y_trn_oh[:1000]\n",
    "# x_dev_small = [x[:1000] for x in x_dev]\n",
    "# y_dev_oh_small = y_dev_oh[:1000]"
   ]
  },
  {
   "cell_type": "code",
   "execution_count": null,
   "metadata": {
    "collapsed": false,
    "scrolled": true
   },
   "outputs": [
    {
     "name": "stdout",
     "output_type": "stream",
     "text": [
      "Train on 6447 samples, validate on 6437 samples\n",
      "Epoch 1/10\n",
      "6447/6447 [==============================] - 699s 108ms/step - loss: 0.3931 - acc: 0.8574 - val_loss: 0.3779 - val_acc: 0.8495\n",
      "\n",
      "Epoch 00001: val_loss improved from inf to 0.37792, saving model to models/gru.h5\n",
      " - val_f1: 0.069 - val_accuracy: 0.85 - val_auroc: 0.743 - val_avg_logloss: 0.378\n",
      "Epoch 2/10\n",
      "6447/6447 [==============================] - 712s 111ms/step - loss: 0.3466 - acc: 0.8664 - val_loss: 0.3665 - val_acc: 0.8526\n",
      "\n",
      "Epoch 00002: val_loss improved from 0.37792 to 0.36648, saving model to models/gru.h5\n",
      " - val_f1: 0.211 - val_accuracy: 0.853 - val_auroc: 0.766 - val_avg_logloss: 0.366\n",
      "Epoch 3/10\n",
      "6447/6447 [==============================] - 795s 123ms/step - loss: 0.3338 - acc: 0.8688 - val_loss: 0.3562 - val_acc: 0.8548\n",
      "\n",
      "Epoch 00003: val_loss improved from 0.36648 to 0.35619, saving model to models/gru.h5\n",
      " - val_f1: 0.226 - val_accuracy: 0.855 - val_auroc: 0.782 - val_avg_logloss: 0.356\n",
      "Epoch 4/10\n",
      "6447/6447 [==============================] - 748s 116ms/step - loss: 0.3243 - acc: 0.8714 - val_loss: 0.3523 - val_acc: 0.8561\n",
      "\n",
      "Epoch 00004: val_loss improved from 0.35619 to 0.35235, saving model to models/gru.h5\n",
      " - val_f1: 0.265 - val_accuracy: 0.856 - val_auroc: 0.789 - val_avg_logloss: 0.352\n",
      "Epoch 5/10\n",
      "2560/6447 [==========>...................] - ETA: 5:51 - loss: 0.3180 - acc: 0.8741"
     ]
    }
   ],
   "source": [
    "# Train\n",
    "rnn_hist = rnn.fit(\n",
    "    x=x_trn,\n",
    "    y=y_trn_oh,\n",
    "    batch_size=bs,\n",
    "    epochs=epochs,\n",
    "    callbacks=callbacks,\n",
    "    validation_data=(x_dev, y_dev_oh),\n",
    "    shuffle=True)"
   ]
  },
  {
   "cell_type": "code",
   "execution_count": 26,
   "metadata": {
    "collapsed": false
   },
   "outputs": [
    {
     "data": {
      "text/plain": [
       "<matplotlib.lines.Line2D at 0x7fda6407dc18>"
      ]
     },
     "execution_count": 26,
     "metadata": {},
     "output_type": "execute_result"
    },
    {
     "data": {
      "image/png": "[encoded data removed]",
      "text/plain": [
       "<matplotlib.figure.Figure at 0x7fda6407d978>"
      ]
     },
     "metadata": {
      "image/png": {
       "height": 258,
       "width": 375
      }
     },
     "output_type": "display_data"
    }
   ],
   "source": [
    "# Plot metrics\n",
    "metrics_df = pd.DataFrame(metrics.metrics)\n",
    "metrics_df.index = range(1, len(metrics_df) + 1)\n",
    "\n",
    "# Find the epoch with the smallest loss\n",
    "min_loss_ix = metrics_df['avglogloss'].idxmin()\n",
    "\n",
    "# Plot\n",
    "ax = metrics_df.plot()\n",
    "ax.axvline(x=min_loss_ix, color='black', ls='--')"
   ]
  },
  {
   "cell_type": "code",
   "execution_count": 29,
   "metadata": {
    "collapsed": false,
    "scrolled": true
   },
   "outputs": [
    {
     "name": "stdout",
     "output_type": "stream",
     "text": [
      "Train on 6447 samples, validate on 6437 samples\n",
      "Epoch 1/10\n",
      "6447/6447 [==============================] - 776s 120ms/step - loss: 0.2914 - acc: 0.8828 - val_loss: 0.3448 - val_acc: 0.8578\n",
      "\n",
      "Epoch 00001: val_loss improved from 0.34512 to 0.34478, saving model to models/gru.h5\n",
      " - val_f1: 0.42 - val_accuracy: 0.858 - val_auroc: 0.811 - val_avg_logloss: 0.345\n",
      "Epoch 2/10\n",
      "6447/6447 [==============================] - 746s 116ms/step - loss: 0.2866 - acc: 0.8847 - val_loss: 0.3478 - val_acc: 0.8563\n",
      "\n",
      "Epoch 00002: val_loss did not improve\n",
      " - val_f1: 0.445 - val_accuracy: 0.856 - val_auroc: 0.812 - val_avg_logloss: 0.348\n",
      "Epoch 3/10\n",
      "6447/6447 [==============================] - 704s 109ms/step - loss: 0.2821 - acc: 0.8863 - val_loss: 0.3465 - val_acc: 0.8598\n",
      "\n",
      "Epoch 00003: val_loss did not improve\n",
      " - val_f1: 0.421 - val_accuracy: 0.86 - val_auroc: 0.812 - val_avg_logloss: 0.347\n",
      "Epoch 4/10\n",
      "6447/6447 [==============================] - 692s 107ms/step - loss: 0.2768 - acc: 0.8882 - val_loss: 0.3489 - val_acc: 0.8585\n",
      "\n",
      "Epoch 00004: val_loss did not improve\n",
      " - val_f1: 0.437 - val_accuracy: 0.859 - val_auroc: 0.813 - val_avg_logloss: 0.349\n",
      "Epoch 5/10\n",
      "6447/6447 [==============================] - 710s 110ms/step - loss: 0.2713 - acc: 0.8906 - val_loss: 0.3522 - val_acc: 0.8566\n",
      "\n",
      "Epoch 00005: val_loss did not improve\n",
      " - val_f1: 0.44 - val_accuracy: 0.857 - val_auroc: 0.81 - val_avg_logloss: 0.352\n",
      "Epoch 6/10\n",
      "6447/6447 [==============================] - 775s 120ms/step - loss: 0.2664 - acc: 0.8923 - val_loss: 0.3564 - val_acc: 0.8572\n",
      "\n",
      "Epoch 00006: val_loss did not improve\n",
      " - val_f1: 0.437 - val_accuracy: 0.857 - val_auroc: 0.809 - val_avg_logloss: 0.357\n",
      "Epoch 00006: early stopping\n"
     ]
    }
   ],
   "source": [
    "# Keep training\n",
    "rnn_hist_2 = rnn.fit(\n",
    "    x=x_trn,\n",
    "    y=y_trn_oh,\n",
    "    batch_size=bs,\n",
    "    epochs=epochs,\n",
    "    callbacks=callbacks,\n",
    "    validation_data=(x_dev, y_dev_oh),\n",
    "    shuffle=True)"
   ]
  },
  {
   "cell_type": "code",
   "execution_count": 43,
   "metadata": {
    "collapsed": false,
    "scrolled": true
   },
   "outputs": [
    {
     "data": {
      "text/plain": [
       "<matplotlib.lines.Line2D at 0x7fda8ad988d0>"
      ]
     },
     "execution_count": 43,
     "metadata": {},
     "output_type": "execute_result"
    },
    {
     "data": {
      "image/png": "[encoded data removed]",
      "text/plain": [
       "<matplotlib.figure.Figure at 0x7fda8ad98a90>"
      ]
     },
     "metadata": {
      "image/png": {
       "height": 258,
       "width": 372
      }
     },
     "output_type": "display_data"
    }
   ],
   "source": [
    "# Plot metrics\n",
    "metrics_df = pd.DataFrame(metrics.metrics)\n",
    "metrics_df.index = range(1, len(metrics_df) + 1)\n",
    "\n",
    "# Find the epoch with the smallest loss\n",
    "min_loss_ix = metrics_df['avglogloss'].idxmin()\n",
    "\n",
    "# Plot\n",
    "ax = metrics_df.plot()\n",
    "ax.axvline(x=min_loss_ix, color='black', ls='--')"
   ]
  },
  {
   "cell_type": "code",
   "execution_count": null,
   "metadata": {
    "collapsed": true
   },
   "outputs": [],
   "source": []
  }
 ],
 "metadata": {
  "kernelspec": {
   "display_name": "Python 3 (General DS)",
   "language": "python",
   "name": "python3"
  },
  "language_info": {
   "codemirror_mode": {
    "name": "ipython",
    "version": 3
   },
   "file_extension": ".py",
   "mimetype": "text/x-python",
   "name": "python",
   "nbconvert_exporter": "python",
   "pygments_lexer": "ipython3",
   "version": "3.6.4"
  }
 },
 "nbformat": 4,
 "nbformat_minor": 2
}

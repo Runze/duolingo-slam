{
 "cells": [
  {
   "cell_type": "code",
   "execution_count": 1,
   "metadata": {
    "collapsed": true
   },
   "outputs": [],
   "source": [
    "import numpy as np\n",
    "import pandas as pd\n",
    "import re\n",
    "import dill as pickle\n",
    "import seaborn as sns\n",
    "import matplotlib.pyplot as plt\n",
    "from eval import *\n",
    "from pandas.io.json import json_normalize\n",
    "from copy import deepcopy\n",
    "\n",
    "sns.set_style('whitegrid')\n",
    "pd.options.display.max_colwidth = 200\n",
    "pd.options.display.max_rows = 300"
   ]
  },
  {
   "cell_type": "code",
   "execution_count": 2,
   "metadata": {
    "collapsed": false
   },
   "outputs": [
    {
     "name": "stderr",
     "output_type": "stream",
     "text": [
      "Using TensorFlow backend.\n"
     ]
    }
   ],
   "source": [
    "from keras.models import load_model"
   ]
  },
  {
   "cell_type": "code",
   "execution_count": 3,
   "metadata": {
    "collapsed": true
   },
   "outputs": [],
   "source": [
    "%matplotlib inline\n",
    "%reload_ext autoreload\n",
    "%autoreload 2\n",
    "%config InlineBackend.figure_format = 'retina'"
   ]
  },
  {
   "cell_type": "markdown",
   "metadata": {},
   "source": [
    "## Apply trained model to the test data"
   ]
  },
  {
   "cell_type": "code",
   "execution_count": 4,
   "metadata": {
    "collapsed": true
   },
   "outputs": [],
   "source": [
    "# Load data\n",
    "feats = pickle.load(open('data/feats.pkl', 'rb'))\n",
    "\n",
    "# Categorical features\n",
    "cat_ix_trn, cat_ix_dev, cat_ix_test = feats['cat_ix_trn'], feats['cat_ix_dev'], feats['cat_ix_test']\n",
    "\n",
    "# Numerical features\n",
    "cont_trn, cont_dev, cont_test = feats['cont_trn'], feats['cont_dev'], feats['cont_test']\n",
    "\n",
    "# Labels\n",
    "y_trn_oh, y_dev_oh, y_test_oh = feats['y_trn_oh'], feats['y_dev_oh'], feats['y_test_oh']\n",
    "\n",
    "# Supporting data\n",
    "cat_vars, cont_vars = feats['cat_vars'], feats['cont_vars']\n",
    "cat_mappers = feats['cat_mappers']\n",
    "max_len = feats['max_len']"
   ]
  },
  {
   "cell_type": "code",
   "execution_count": 5,
   "metadata": {
    "collapsed": true
   },
   "outputs": [],
   "source": [
    "# Load model\n",
    "rnn = load_model('models/gru.h5')"
   ]
  },
  {
   "cell_type": "code",
   "execution_count": 6,
   "metadata": {
    "collapsed": true
   },
   "outputs": [],
   "source": [
    "# Apply model to the test data and evaluate results\n",
    "def predict_and_eval(x, y, model, track_itos, per_track=True):\n",
    "    # Generate predictions\n",
    "    y_pred_prob = model.predict(x)\n",
    "    \n",
    "    # Reshape to 2D (thus concatenating all observations together)\n",
    "    y_rs = y.reshape(-1, 3)\n",
    "    y_pred_prob_rs = y_pred_prob.reshape(-1, 3)\n",
    "\n",
    "    # Add track\n",
    "    track_rs = x[0].flatten()  # The first element of the feature list is `track`\n",
    "\n",
    "    # Remove padded observations\n",
    "    # (the first vertical axis indicates whether it's a padded observation or not)\n",
    "    non_pad_ix = np.where(y_rs[:, 0] == 0)[0]\n",
    "    y_rs = y_rs[non_pad_ix, :]\n",
    "    y_pred_prob_rs = y_pred_prob_rs[non_pad_ix, :]\n",
    "    track_rs = track_rs[non_pad_ix]\n",
    "\n",
    "    # Only evaluate on the positive class\n",
    "    y_rs = y_rs[:, -1]\n",
    "    y_pred_prob_rs = y_pred_prob_rs[:, -1]\n",
    "    \n",
    "    # Put together in a dataframe\n",
    "    y_pred_df = pd.DataFrame({'track': [track_itos[t] for t in track_rs], 'actual': y_rs, 'predicted': y_pred_prob_rs})\n",
    "    \n",
    "    # Compute metrics per track\n",
    "    if per_track:\n",
    "        metrics_per_track = y_pred_df.groupby('track').apply(lambda grp: evaluate_metrics(grp['actual'].values, grp['predicted'].values))\n",
    "        return json_normalize(metrics_per_track).set_index(metrics_per_track.index)[['auroc', 'F1']]\n",
    "    else:\n",
    "        metrics = evaluate_metrics(y_pred_df['actual'].values, y_pred_df['predicted'].values)\n",
    "        return json_normalize(metrics)[['auroc', 'F1']]"
   ]
  },
  {
   "cell_type": "code",
   "execution_count": 67,
   "metadata": {
    "collapsed": false
   },
   "outputs": [
    {
     "data": {
      "text/html": [
       "<div>\n",
       "<style scoped>\n",
       "    .dataframe tbody tr th:only-of-type {\n",
       "        vertical-align: middle;\n",
       "    }\n",
       "\n",
       "    .dataframe tbody tr th {\n",
       "        vertical-align: top;\n",
       "    }\n",
       "\n",
       "    .dataframe thead th {\n",
       "        text-align: right;\n",
       "    }\n",
       "</style>\n",
       "<table border=\"1\" class=\"dataframe\">\n",
       "  <thead>\n",
       "    <tr style=\"text-align: right;\">\n",
       "      <th></th>\n",
       "      <th>auroc</th>\n",
       "      <th>F1</th>\n",
       "    </tr>\n",
       "    <tr>\n",
       "      <th>track</th>\n",
       "      <th></th>\n",
       "      <th></th>\n",
       "    </tr>\n",
       "  </thead>\n",
       "  <tbody>\n",
       "    <tr>\n",
       "      <th>en_es</th>\n",
       "      <td>0.818440</td>\n",
       "      <td>0.426078</td>\n",
       "    </tr>\n",
       "    <tr>\n",
       "      <th>es_en</th>\n",
       "      <td>0.785258</td>\n",
       "      <td>0.397108</td>\n",
       "    </tr>\n",
       "    <tr>\n",
       "      <th>fr_en</th>\n",
       "      <td>0.810768</td>\n",
       "      <td>0.458776</td>\n",
       "    </tr>\n",
       "  </tbody>\n",
       "</table>\n",
       "</div>"
      ],
      "text/plain": [
       "          auroc        F1\n",
       "track                    \n",
       "en_es  0.818440  0.426078\n",
       "es_en  0.785258  0.397108\n",
       "fr_en  0.810768  0.458776"
      ]
     },
     "execution_count": 67,
     "metadata": {},
     "output_type": "execute_result"
    }
   ],
   "source": [
    "x_test = [cat_ix_test[var] for var in cat_vars] + [cont_test[var] for var in cont_vars]\n",
    "predict_and_eval(x_test, y_test_oh, rnn, cat_mappers['track']['itos'])"
   ]
  },
  {
   "cell_type": "markdown",
   "metadata": {},
   "source": [
    "## Analyze feature importance"
   ]
  },
  {
   "cell_type": "code",
   "execution_count": 7,
   "metadata": {
    "collapsed": true
   },
   "outputs": [],
   "source": [
    "def estimate_feat_importance(x, y, model, track_itos, feats_order, seed=0):\n",
    "    # Compute baseline metrics using unshuffled data\n",
    "    baseline = predict_and_eval(x, y, model, track_itos, per_track=False)\n",
    "    \n",
    "    # Generate shuffled index\n",
    "    ix = np.arange(len(y))\n",
    "    np.random.seed(seed)\n",
    "    np.random.shuffle(ix)\n",
    "    \n",
    "    metrics_change = {}\n",
    "    \n",
    "    # Shuffle by feature\n",
    "    for i, f in enumerate(feats_order):\n",
    "        save = deepcopy(x[i])\n",
    "        \n",
    "        # Shuffle selected features\n",
    "        x[i] = x[i][ix]\n",
    "        \n",
    "        # Re-compute metrics\n",
    "        new_score = predict_and_eval(x, y, model, track_itos, per_track=False)\n",
    "        \n",
    "        # Compute differences\n",
    "        metrics_change[f] = baseline - new_score\n",
    "        \n",
    "        # Restore the original value\n",
    "        x[i] = save\n",
    "\n",
    "    return metrics_change"
   ]
  },
  {
   "cell_type": "code",
   "execution_count": 11,
   "metadata": {
    "collapsed": true
   },
   "outputs": [],
   "source": [
    "# Use validation data\n",
    "x_dev = [cat_ix_dev[var] for var in cat_vars] + [cont_dev[var] for var in cont_vars]\n",
    "feats_order = cat_vars + cont_vars"
   ]
  },
  {
   "cell_type": "code",
   "execution_count": null,
   "metadata": {
    "collapsed": false
   },
   "outputs": [],
   "source": [
    "# Estimate importance for each feature\n",
    "rnn_feat_imp = estimate_feat_importance(x_dev, y_dev_oh, rnn, cat_mappers['track']['itos'], feats_order)"
   ]
  },
  {
   "cell_type": "code",
   "execution_count": 10,
   "metadata": {
    "collapsed": false,
    "scrolled": true
   },
   "outputs": [
    {
     "data": {
      "text/plain": [
       "{'track':       auroc        F1\n",
       " 0  0.080033  0.091811}"
      ]
     },
     "execution_count": 10,
     "metadata": {},
     "output_type": "execute_result"
    }
   ],
   "source": [
    "rnn_feat_imp"
   ]
  },
  {
   "cell_type": "code",
   "execution_count": 81,
   "metadata": {
    "collapsed": true
   },
   "outputs": [],
   "source": [
    "x, y, model, track_itos, feats_order = x_dev, y_dev_oh, rnn, cat_mappers['track']['itos'], feats_order[:2]"
   ]
  },
  {
   "cell_type": "code",
   "execution_count": 87,
   "metadata": {
    "collapsed": false
   },
   "outputs": [],
   "source": [
    "baseline = predict_and_eval(x, y, model, track_itos, per_track=False)"
   ]
  },
  {
   "cell_type": "code",
   "execution_count": 88,
   "metadata": {
    "collapsed": false
   },
   "outputs": [
    {
     "data": {
      "text/html": [
       "<div>\n",
       "<style scoped>\n",
       "    .dataframe tbody tr th:only-of-type {\n",
       "        vertical-align: middle;\n",
       "    }\n",
       "\n",
       "    .dataframe tbody tr th {\n",
       "        vertical-align: top;\n",
       "    }\n",
       "\n",
       "    .dataframe thead th {\n",
       "        text-align: right;\n",
       "    }\n",
       "</style>\n",
       "<table border=\"1\" class=\"dataframe\">\n",
       "  <thead>\n",
       "    <tr style=\"text-align: right;\">\n",
       "      <th></th>\n",
       "      <th>auroc</th>\n",
       "      <th>F1</th>\n",
       "    </tr>\n",
       "  </thead>\n",
       "  <tbody>\n",
       "    <tr>\n",
       "      <th>0</th>\n",
       "      <td>0.806096</td>\n",
       "      <td>0.422265</td>\n",
       "    </tr>\n",
       "  </tbody>\n",
       "</table>\n",
       "</div>"
      ],
      "text/plain": [
       "      auroc        F1\n",
       "0  0.806096  0.422265"
      ]
     },
     "execution_count": 88,
     "metadata": {},
     "output_type": "execute_result"
    }
   ],
   "source": [
    "baseline"
   ]
  },
  {
   "cell_type": "code",
   "execution_count": 90,
   "metadata": {
    "collapsed": false
   },
   "outputs": [
    {
     "data": {
      "text/plain": [
       "array([1746, 4065, 5236, ..., 1653, 2607, 2732])"
      ]
     },
     "execution_count": 90,
     "metadata": {},
     "output_type": "execute_result"
    }
   ],
   "source": [
    "seed = 0\n",
    "ix = np.arange(len(y))\n",
    "np.random.seed(seed)\n",
    "np.random.shuffle(ix)\n",
    "ix"
   ]
  },
  {
   "cell_type": "code",
   "execution_count": 91,
   "metadata": {
    "collapsed": true
   },
   "outputs": [],
   "source": [
    "i = 0\n",
    "save = deepcopy(x[i])"
   ]
  },
  {
   "cell_type": "code",
   "execution_count": 94,
   "metadata": {
    "collapsed": false
   },
   "outputs": [],
   "source": [
    "x[i] = x[i][ix]"
   ]
  },
  {
   "cell_type": "code",
   "execution_count": 95,
   "metadata": {
    "collapsed": false
   },
   "outputs": [
    {
     "data": {
      "text/plain": [
       "array([[0, 0, 0, ..., 2, 2, 2],\n",
       "       [0, 0, 0, ..., 4, 4, 4],\n",
       "       [0, 0, 0, ..., 3, 3, 3],\n",
       "       ..., \n",
       "       [0, 0, 0, ..., 2, 2, 2],\n",
       "       [0, 0, 0, ..., 2, 2, 2],\n",
       "       [0, 0, 0, ..., 3, 3, 3]], dtype=int32)"
      ]
     },
     "execution_count": 95,
     "metadata": {},
     "output_type": "execute_result"
    }
   ],
   "source": [
    "x[i]"
   ]
  },
  {
   "cell_type": "code",
   "execution_count": 96,
   "metadata": {
    "collapsed": false
   },
   "outputs": [
    {
     "data": {
      "text/plain": [
       "[array([[0, 0, 0, ..., 2, 2, 2],\n",
       "        [0, 0, 0, ..., 4, 4, 4],\n",
       "        [0, 0, 0, ..., 3, 3, 3],\n",
       "        ..., \n",
       "        [0, 0, 0, ..., 2, 2, 2],\n",
       "        [0, 0, 0, ..., 2, 2, 2],\n",
       "        [0, 0, 0, ..., 3, 3, 3]], dtype=int32),\n",
       " array([[   0,    0,    0, ..., 3701, 3701, 3701],\n",
       "        [   0,    0,    0, ..., 1217, 1217, 1217],\n",
       "        [   0,    0,    0, ..., 2871, 2871, 2871],\n",
       "        ..., \n",
       "        [   0,    0,    0, ..., 4994, 4994, 4994],\n",
       "        [   0,    0,    0, ..., 4223, 4223, 4223],\n",
       "        [   0,    0,    0, ..., 3681, 3681, 3681]], dtype=int32),\n",
       " array([[ 0,  0,  0, ..., 32, 32, 32],\n",
       "        [ 0,  0,  0, ...,  3,  3,  3],\n",
       "        [ 0,  0,  0, ...,  2,  2,  2],\n",
       "        ..., \n",
       "        [ 0,  0,  0, ..., 14, 14, 14],\n",
       "        [ 0,  0,  0, ..., 16, 16, 16],\n",
       "        [ 0,  0,  0, ...,  2,  2,  2]], dtype=int32),\n",
       " array([[0, 0, 0, ..., 3, 3, 3],\n",
       "        [0, 0, 0, ..., 2, 2, 2],\n",
       "        [0, 0, 0, ..., 2, 2, 2],\n",
       "        ..., \n",
       "        [0, 0, 0, ..., 2, 2, 2],\n",
       "        [0, 0, 0, ..., 2, 2, 2],\n",
       "        [0, 0, 0, ..., 2, 2, 2]], dtype=int32),\n",
       " array([[0, 0, 0, ..., 2, 2, 2],\n",
       "        [0, 0, 0, ..., 2, 2, 2],\n",
       "        [0, 0, 0, ..., 3, 3, 3],\n",
       "        ..., \n",
       "        [0, 0, 0, ..., 2, 2, 2],\n",
       "        [0, 0, 0, ..., 2, 2, 2],\n",
       "        [0, 0, 0, ..., 3, 3, 3]], dtype=int32),\n",
       " array([[0, 0, 0, ..., 4, 4, 4],\n",
       "        [0, 0, 0, ..., 2, 2, 2],\n",
       "        [0, 0, 0, ..., 4, 4, 4],\n",
       "        ..., \n",
       "        [0, 0, 0, ..., 4, 4, 4],\n",
       "        [0, 0, 0, ..., 2, 2, 2],\n",
       "        [0, 0, 0, ..., 2, 2, 2]], dtype=int32),\n",
       " array([[   0,    0,    0, ...,   13,  285, 1529],\n",
       "        [   0,    0,    0, ...,   12,    5,  516],\n",
       "        [   0,    0,    0, ..., 1042,  676,   73],\n",
       "        ..., \n",
       "        [   0,    0,    0, ...,   32,    3,  452],\n",
       "        [   0,    0,    0, ...,  412,    4,  583],\n",
       "        [   0,    0,    0, ...,  226,  347,  959]], dtype=int32),\n",
       " array([[ 0,  0,  0, ...,  3,  5,  2],\n",
       "        [ 0,  0,  0, ...,  3,  4,  2],\n",
       "        [ 0,  0,  0, ..., 10,  8,  9],\n",
       "        ..., \n",
       "        [ 0,  0,  0, ...,  3,  5,  2],\n",
       "        [ 0,  0,  0, ...,  2,  3,  6],\n",
       "        [ 0,  0,  0, ...,  2,  2,  6]], dtype=int32),\n",
       " array([[ 0,  0,  0, ...,  5,  9,  2],\n",
       "        [ 0,  0,  0, ...,  5,  9,  2],\n",
       "        [ 0,  0,  0, ..., 13,  7,  8],\n",
       "        ..., \n",
       "        [ 0,  0,  0, ...,  2,  4,  6],\n",
       "        [ 0,  0,  0, ...,  3,  5,  2],\n",
       "        [ 0,  0,  0, ...,  3,  2, 11]], dtype=int32),\n",
       " array([[0, 0, 0, ..., 2, 2, 2],\n",
       "        [0, 0, 0, ..., 2, 2, 2],\n",
       "        [0, 0, 0, ..., 2, 2, 2],\n",
       "        ..., \n",
       "        [0, 0, 0, ..., 2, 2, 2],\n",
       "        [0, 0, 0, ..., 2, 2, 2],\n",
       "        [0, 0, 0, ..., 2, 2, 2]], dtype=int32),\n",
       " array([[0, 0, 0, ..., 2, 2, 2],\n",
       "        [0, 0, 0, ..., 2, 2, 2],\n",
       "        [0, 0, 0, ..., 2, 2, 2],\n",
       "        ..., \n",
       "        [0, 0, 0, ..., 2, 3, 2],\n",
       "        [0, 0, 0, ..., 2, 2, 2],\n",
       "        [0, 0, 0, ..., 2, 2, 2]], dtype=int32),\n",
       " array([[0, 0, 0, ..., 2, 2, 2],\n",
       "        [0, 0, 0, ..., 2, 2, 2],\n",
       "        [0, 0, 0, ..., 2, 2, 2],\n",
       "        ..., \n",
       "        [0, 0, 0, ..., 2, 2, 2],\n",
       "        [0, 0, 0, ..., 2, 2, 3],\n",
       "        [0, 0, 0, ..., 2, 2, 2]], dtype=int32),\n",
       " array([[0, 0, 0, ..., 2, 2, 2],\n",
       "        [0, 0, 0, ..., 2, 2, 2],\n",
       "        [0, 0, 0, ..., 2, 2, 2],\n",
       "        ..., \n",
       "        [0, 0, 0, ..., 2, 2, 2],\n",
       "        [0, 0, 0, ..., 2, 2, 2],\n",
       "        [0, 0, 0, ..., 2, 2, 2]], dtype=int32),\n",
       " array([[ 0,  0,  0, ...,  4,  3,  2],\n",
       "        [ 0,  0,  0, ...,  9, 18, 16],\n",
       "        [ 0,  0,  0, ..., 19, 12, 15],\n",
       "        ..., \n",
       "        [ 0,  0,  0, ...,  9,  8,  5],\n",
       "        [ 0,  0,  0, ...,  5, 11, 10],\n",
       "        [ 0,  0,  0, ...,  2,  4, 14]], dtype=int32),\n",
       " array([[0, 0, 0, ..., 2, 4, 4],\n",
       "        [0, 0, 0, ..., 2, 2, 2],\n",
       "        [0, 0, 0, ..., 2, 2, 2],\n",
       "        ..., \n",
       "        [0, 0, 0, ..., 2, 2, 2],\n",
       "        [0, 0, 0, ..., 2, 2, 2],\n",
       "        [0, 0, 0, ..., 3, 2, 2]], dtype=int32),\n",
       " array([[0, 0, 0, ..., 3, 2, 2],\n",
       "        [0, 0, 0, ..., 3, 2, 2],\n",
       "        [0, 0, 0, ..., 2, 2, 2],\n",
       "        ..., \n",
       "        [0, 0, 0, ..., 3, 2, 2],\n",
       "        [0, 0, 0, ..., 2, 3, 2],\n",
       "        [0, 0, 0, ..., 2, 3, 2]], dtype=int32),\n",
       " array([[0, 0, 0, ..., 2, 2, 2],\n",
       "        [0, 0, 0, ..., 3, 2, 4],\n",
       "        [0, 0, 0, ..., 3, 3, 3],\n",
       "        ..., \n",
       "        [0, 0, 0, ..., 3, 3, 2],\n",
       "        [0, 0, 0, ..., 2, 2, 3],\n",
       "        [0, 0, 0, ..., 4, 4, 4]], dtype=int32),\n",
       " array([[0, 0, 0, ..., 2, 2, 2],\n",
       "        [0, 0, 0, ..., 2, 2, 2],\n",
       "        [0, 0, 0, ..., 2, 2, 2],\n",
       "        ..., \n",
       "        [0, 0, 0, ..., 2, 2, 2],\n",
       "        [0, 0, 0, ..., 2, 2, 2],\n",
       "        [0, 0, 0, ..., 2, 2, 2]], dtype=int32),\n",
       " array([[0, 0, 0, ..., 3, 2, 2],\n",
       "        [0, 0, 0, ..., 2, 4, 2],\n",
       "        [0, 0, 0, ..., 2, 2, 2],\n",
       "        ..., \n",
       "        [0, 0, 0, ..., 2, 2, 2],\n",
       "        [0, 0, 0, ..., 2, 3, 2],\n",
       "        [0, 0, 0, ..., 2, 3, 2]], dtype=int32),\n",
       " array([[0, 0, 0, ..., 2, 2, 2],\n",
       "        [0, 0, 0, ..., 2, 2, 2],\n",
       "        [0, 0, 0, ..., 2, 2, 2],\n",
       "        ..., \n",
       "        [0, 0, 0, ..., 2, 2, 2],\n",
       "        [0, 0, 0, ..., 2, 2, 2],\n",
       "        [0, 0, 0, ..., 2, 2, 2]], dtype=int32),\n",
       " array([[0, 0, 0, ..., 2, 2, 2],\n",
       "        [0, 0, 0, ..., 2, 3, 2],\n",
       "        [0, 0, 0, ..., 2, 2, 2],\n",
       "        ..., \n",
       "        [0, 0, 0, ..., 2, 2, 2],\n",
       "        [0, 0, 0, ..., 2, 2, 2],\n",
       "        [0, 0, 0, ..., 2, 2, 2]], dtype=int32),\n",
       " array([[0, 0, 0, ..., 2, 2, 2],\n",
       "        [0, 0, 0, ..., 2, 2, 2],\n",
       "        [0, 0, 0, ..., 2, 2, 2],\n",
       "        ..., \n",
       "        [0, 0, 0, ..., 2, 2, 2],\n",
       "        [0, 0, 0, ..., 2, 2, 2],\n",
       "        [0, 0, 0, ..., 2, 2, 2]], dtype=int32),\n",
       " array([[0, 0, 0, ..., 2, 2, 2],\n",
       "        [0, 0, 0, ..., 2, 3, 2],\n",
       "        [0, 0, 0, ..., 2, 2, 2],\n",
       "        ..., \n",
       "        [0, 0, 0, ..., 2, 4, 2],\n",
       "        [0, 0, 0, ..., 2, 2, 2],\n",
       "        [0, 0, 0, ..., 2, 2, 2]], dtype=int32),\n",
       " array([[0, 0, 0, ..., 2, 2, 2],\n",
       "        [0, 0, 0, ..., 2, 2, 2],\n",
       "        [0, 0, 0, ..., 2, 2, 2],\n",
       "        ..., \n",
       "        [0, 0, 0, ..., 2, 2, 2],\n",
       "        [0, 0, 0, ..., 2, 2, 2],\n",
       "        [0, 0, 0, ..., 2, 2, 2]], dtype=int32),\n",
       " array([[0, 0, 0, ..., 3, 2, 2],\n",
       "        [0, 0, 0, ..., 3, 2, 2],\n",
       "        [0, 0, 0, ..., 2, 2, 2],\n",
       "        ..., \n",
       "        [0, 0, 0, ..., 3, 2, 2],\n",
       "        [0, 0, 0, ..., 2, 3, 2],\n",
       "        [0, 0, 0, ..., 2, 3, 2]], dtype=int32),\n",
       " array([[0, 0, 0, ..., 3, 2, 2],\n",
       "        [0, 0, 0, ..., 3, 2, 2],\n",
       "        [0, 0, 0, ..., 2, 2, 2],\n",
       "        ..., \n",
       "        [0, 0, 0, ..., 3, 2, 2],\n",
       "        [0, 0, 0, ..., 2, 3, 2],\n",
       "        [0, 0, 0, ..., 2, 3, 2]], dtype=int32),\n",
       " array([[0, 0, 0, ..., 2, 2, 2],\n",
       "        [0, 0, 0, ..., 2, 2, 2],\n",
       "        [0, 0, 0, ..., 2, 2, 2],\n",
       "        ..., \n",
       "        [0, 0, 0, ..., 2, 2, 2],\n",
       "        [0, 0, 0, ..., 2, 2, 2],\n",
       "        [0, 0, 0, ..., 2, 2, 2]], dtype=int32),\n",
       " array([[ -1.   ,  -1.   ,  -1.   , ...,   6.351,   6.351,   6.351],\n",
       "        [ -1.   ,  -1.   ,  -1.   , ...,  22.787,  22.787,  22.787],\n",
       "        [ -1.   ,  -1.   ,  -1.   , ...,   8.696,   8.696,   8.696],\n",
       "        ..., \n",
       "        [ -1.   ,  -1.   ,  -1.   , ...,  17.253,  17.253,  17.253],\n",
       "        [ -1.   ,  -1.   ,  -1.   , ...,   7.12 ,   7.12 ,   7.12 ],\n",
       "        [ -1.   ,  -1.   ,  -1.   , ...,  18.731,  18.731,  18.731]]),\n",
       " array([[-1., -1., -1., ...,  4.,  4.,  0.],\n",
       "        [-1., -1., -1., ...,  4.,  4.,  0.],\n",
       "        [-1., -1., -1., ...,  1.,  3.,  3.],\n",
       "        ..., \n",
       "        [-1., -1., -1., ...,  0.,  4.,  2.],\n",
       "        [-1., -1., -1., ...,  4.,  4.,  0.],\n",
       "        [-1., -1., -1., ...,  3.,  0.,  3.]]),\n",
       " array([[ -1.,  -1.,  -1., ...,  11.,  11.,  11.],\n",
       "        [ -1.,  -1.,  -1., ...,  11.,  11.,  11.],\n",
       "        [ -1.,  -1.,  -1., ...,   5.,   2.,   2.],\n",
       "        ..., \n",
       "        [ -1.,  -1.,  -1., ...,  17.,  17.,  17.],\n",
       "        [ -1.,  -1.,  -1., ...,  11.,  11.,  11.],\n",
       "        [ -1.,  -1.,  -1., ...,  20.,  20.,  20.]])]"
      ]
     },
     "execution_count": 96,
     "metadata": {},
     "output_type": "execute_result"
    }
   ],
   "source": [
    "x"
   ]
  },
  {
   "cell_type": "code",
   "execution_count": null,
   "metadata": {
    "collapsed": true
   },
   "outputs": [],
   "source": []
  }
 ],
 "metadata": {
  "kernelspec": {
   "display_name": "Python 3 (General DS)",
   "language": "python",
   "name": "python3"
  },
  "language_info": {
   "codemirror_mode": {
    "name": "ipython",
    "version": 3
   },
   "file_extension": ".py",
   "mimetype": "text/x-python",
   "name": "python",
   "nbconvert_exporter": "python",
   "pygments_lexer": "ipython3",
   "version": "3.6.4"
  }
 },
 "nbformat": 4,
 "nbformat_minor": 2
}
